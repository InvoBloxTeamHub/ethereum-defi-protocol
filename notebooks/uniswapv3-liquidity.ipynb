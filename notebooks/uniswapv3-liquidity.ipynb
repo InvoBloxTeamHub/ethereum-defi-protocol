{
 "cells": [
  {
   "cell_type": "markdown",
   "metadata": {},
   "source": [
    "# Uniswap V3 liquidity analysis\n",
    "\n",
    "In this notebook we will show how to download liquidity events from Uniswap V3 to your computer as CSV files and use them to construct and analyse liquidity in each pool"
   ]
  },
  {
   "cell_type": "markdown",
   "metadata": {},
   "source": [
    "### Setup the notebook"
   ]
  },
  {
   "cell_type": "code",
   "execution_count": 1,
   "metadata": {},
   "outputs": [],
   "source": [
    "%load_ext autoreload\n",
    "%autoreload 2"
   ]
  },
  {
   "cell_type": "code",
   "execution_count": null,
   "metadata": {},
   "outputs": [],
   "source": [
    "import os\n",
    "import random\n",
    "\n",
    "import pandas as pd\n",
    "import matplotlib.pyplot as plt\n",
    "\n",
    "from eth_defi.uniswap_v3.constants import UNISWAP_V3_FACTORY_CREATED_AT_BLOCK\n",
    "from eth_defi.uniswap_v3.events import fetch_events_to_csv\n",
    "from eth_defi.uniswap_v3.liquidity import create_tick_delta_csv, create_tick_csv, get_pool_state_at_block"
   ]
  },
  {
   "cell_type": "markdown",
   "metadata": {},
   "source": [
    "### Download the raw data\n",
    "\n",
    "For simplicity, you can sign up for free access to an Ethereum node for example at [Infura](https://infura.io/), however we recommend you to [run your own Ethereum node](https://tradingstrategy.ai/blog/preparing-a-server-for-hosting-goethereum-full-node)"
   ]
  },
  {
   "cell_type": "code",
   "execution_count": 22,
   "metadata": {},
   "outputs": [],
   "source": [
    "json_rpc_url = input(\"Please enter your JSON-RPC URL here\")"
   ]
  },
  {
   "cell_type": "markdown",
   "metadata": {},
   "source": [
    "As an example, here we download raw liquidity events from first 10000 blocks after Uniswap V3 factory is created, the events will be stored in several CSV files at `/tmp` folder"
   ]
  },
  {
   "cell_type": "code",
   "execution_count": null,
   "metadata": {},
   "outputs": [],
   "source": [
    "start_block = UNISWAP_V3_FACTORY_CREATED_AT_BLOCK\n",
    "end_block = UNISWAP_V3_FACTORY_CREATED_AT_BLOCK + 10_000\n",
    "fetch_events_to_csv(json_rpc_url, start_block=start_block, end_block=end_block)"
   ]
  },
  {
   "cell_type": "markdown",
   "metadata": {},
   "source": [
    "### Construct intermediate data\n",
    "\n",
    "A single raw liquidity event only tells us what happened to specific ticks in a specific pool. To be able to know how much liquidity is in each tick, we first need to construct intermediate data (we call them tick delta events) based on mint and burn events "
   ]
  },
  {
   "cell_type": "code",
   "execution_count": 27,
   "metadata": {},
   "outputs": [],
   "source": [
    "tick_delta_csv = create_tick_delta_csv(\"/tmp/uniswapv3-Mint.csv\", \"/tmp/uniswapv3-Burn.csv\")"
   ]
  },
  {
   "cell_type": "markdown",
   "metadata": {},
   "source": [
    "Then we can use these delta events to aggregate into each tick liquidity "
   ]
  },
  {
   "cell_type": "code",
   "execution_count": 28,
   "metadata": {},
   "outputs": [],
   "source": [
    "tick_csv = create_tick_csv(tick_delta_csv)"
   ]
  },
  {
   "cell_type": "markdown",
   "metadata": {},
   "source": [
    "Create a dataframe we can use for further analysis"
   ]
  },
  {
   "cell_type": "code",
   "execution_count": null,
   "metadata": {},
   "outputs": [],
   "source": [
    "tick_df = pd.read_csv(tick_csv)\n",
    "tick_df"
   ]
  },
  {
   "cell_type": "markdown",
   "metadata": {},
   "source": [
    "### Liquidity analysis example\n",
    "\n",
    "Choose a random pool from the tick dataframe, for example: UNI/ETH 0.3%"
   ]
  },
  {
   "cell_type": "code",
   "execution_count": 35,
   "metadata": {},
   "outputs": [],
   "source": [
    "pool_address = \"0x1d42064fc4beb5f8aaf85f4617ae8b3b5b8bd801\""
   ]
  },
  {
   "cell_type": "markdown",
   "metadata": {},
   "source": [
    "Extract only the ticks relate to the pool we chose from the dataframe"
   ]
  },
  {
   "cell_type": "code",
   "execution_count": null,
   "metadata": {},
   "outputs": [],
   "source": [
    "df = tick_df[tick_df.pool_contract_address == pool_address].sort_values(by=\"tick_id\")\n",
    "df.index = df.tick_id\n",
    "\n",
    "df"
   ]
  },
  {
   "cell_type": "markdown",
   "metadata": {},
   "source": [
    "We then can plot the liquidity gross in this pool"
   ]
  },
  {
   "cell_type": "code",
   "execution_count": null,
   "metadata": {},
   "outputs": [],
   "source": [
    "plt.rcParams[\"figure.dpi\"] = 200\n",
    "\n",
    "df[\"liquidity_gross_delta\"].astype(float).plot()"
   ]
  },
  {
   "cell_type": "markdown",
   "metadata": {},
   "source": [
    "### Compare the data with The Graph data\n",
    "\n",
    "One way to verify whether the data we construct is correct is to compare it with official [Uniswap V3 subgraph data](https://thegraph.com/hosted-service/subgraph/uniswap/uniswap-v3)  "
   ]
  },
  {
   "cell_type": "code",
   "execution_count": null,
   "metadata": {},
   "outputs": [],
   "source": [
    "tickdelta_df = pd.read_csv(tick_delta_csv)\n",
    "last_processed_block = tickdelta_df[tickdelta_df.pool_contract_address == pool_address].tail(1).block_number\n",
    "last_processed_block = int(last_processed_block.values[0])"
   ]
  },
  {
   "cell_type": "markdown",
   "metadata": {},
   "source": [
    "Get pool's state at the same last processed block"
   ]
  },
  {
   "cell_type": "code",
   "execution_count": null,
   "metadata": {},
   "outputs": [],
   "source": [
    "pool_state = get_pool_state_at_block(pool_address, last_processed_block)"
   ]
  },
  {
   "cell_type": "markdown",
   "metadata": {},
   "source": [
    "Then compare random ticks between our CSV data and the subgraph data"
   ]
  },
  {
   "cell_type": "code",
   "execution_count": null,
   "metadata": {},
   "outputs": [],
   "source": [
    "ticks = pool_state[\"ticks\"]\n",
    "\n",
    "# get some random ticks from subgraph\n",
    "for i in range(100):\n",
    "    random_tick = random.choice(ticks)\n",
    "    print(random_tick)\n",
    "\n",
    "    # get the same tick from dataframe\n",
    "    random_tick_df = df[df.tick_id == int(random_tick[\"tickIdx\"])]\n",
    "\n",
    "    # compare data\n",
    "    assert int(random_tick_df.liquidity_gross_delta.values[0]) == int(random_tick[\"liquidityGross\"])\n",
    "    assert int(random_tick_df.liquidity_net_delta.values[0]) == int(random_tick[\"liquidityNet\"])"
   ]
  }
 ],
 "metadata": {
  "interpreter": {
   "hash": "9b6697946b59f1cda35d1a9d955611df8679c38ae8cee6d6fc35b656a9a31b3c"
  },
  "kernelspec": {
   "display_name": "Python 3.9.10 ('web3-ethereum-defi-0d8b7oDT-py3.9')",
   "language": "python",
   "name": "python3"
  },
  "language_info": {
   "codemirror_mode": {
    "name": "ipython",
    "version": 3
   },
   "file_extension": ".py",
   "mimetype": "text/x-python",
   "name": "python",
   "nbconvert_exporter": "python",
   "pygments_lexer": "ipython3",
   "version": "3.9.10"
  },
  "orig_nbformat": 4
 },
 "nbformat": 4,
 "nbformat_minor": 2
}
