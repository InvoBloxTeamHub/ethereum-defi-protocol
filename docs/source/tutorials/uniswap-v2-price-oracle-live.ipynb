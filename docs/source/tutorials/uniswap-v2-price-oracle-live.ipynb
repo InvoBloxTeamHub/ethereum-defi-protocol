{
 "cells": [
  {
   "cell_type": "markdown",
   "metadata": {},
   "source": [
    "# Uniswap V2 live price oracle\n",
    "\n",
    "In this notebook we will show how to interactively display TWAP adjusted price from Uniswap v2 compatible decentralised exchanges, like PancakeSwap.\n",
    "\n",
    "* You need to understand [Jupyter Notebook and Pandas basics](https://jakevdp.github.io/PythonDataScienceHandbook/)\n",
    "\n",
    "* You need to understand [Ethereum](https://github.com/ethereumbook/ethereumbook) and [Web3.py basics](https://web3py.readthedocs.io/)\n",
    "\n",
    "* You can click *Launch binder* button on this documentation page to automatically open this notebook to be run in\n",
    "  [Binder cloud notebook service](https://mybinder.org/). Note that we recommend to run the notebook\n",
    "  on your local computer, as generated CSV needs are large and take long time to generate."
   ]
  },
  {
   "cell_type": "markdown",
   "metadata": {},
   "source": [
    "### Set up JSON-RPC node connection\n",
    "\n",
    "We are using free BNB Chain API node."
   ]
  },
  {
   "cell_type": "code",
   "execution_count": 10,
   "metadata": {},
   "outputs": [],
   "source": [
    "from web3 import Web3, HTTPProvider\n",
    "\n",
    "# Get your node JSON-RPC URL\n",
    "json_rpc_url = input(\"Please enter your Ethereum mainnet JSON-RPC URL here\")\n",
    "web3 = Web3(HTTPProvider(json_rpc_url))\n"
   ]
  },
  {
   "cell_type": "markdown",
   "source": [
    "\n",
    "### Setting up the price oracle\n",
    "\n",
    "We set up a price oracle with security parameters\n"
   ],
   "metadata": {
    "collapsed": false,
    "pycharm": {
     "name": "#%% md\n"
    }
   }
  },
  {
   "cell_type": "code",
   "execution_count": null,
   "outputs": [],
   "source": [
    "import datetime\n",
    "from eth_defi.price_oracle.oracle import PriceOracle, time_weighted_average_price\n",
    "\n",
    "oracle = PriceOracle(\n",
    "    time_weighted_average_price,\n",
    "    # Abort if latest data is older than 4 hours\n",
    "    max_age=datetime.timedelta(hours=4),\n",
    "    # Abort if we have data for less than 15 minutes\n",
    "    min_duration=datetime.timedelta(minutes=15),\n",
    ")\n"
   ],
   "metadata": {
    "collapsed": false,
    "pycharm": {
     "name": "#%%\n"
    }
   }
  },
  {
   "cell_type": "code",
   "execution_count": null,
   "outputs": [],
   "source": [],
   "metadata": {
    "collapsed": false,
    "pycharm": {
     "name": "#%%\n"
    }
   }
  },
  {
   "cell_type": "markdown",
   "metadata": {
    "pycharm": {
     "name": "#%% md\n"
    }
   },
   "source": []
  }
 ],
 "metadata": {
  "interpreter": {
   "hash": "9b6697946b59f1cda35d1a9d955611df8679c38ae8cee6d6fc35b656a9a31b3c"
  },
  "kernelspec": {
   "display_name": "Python 3.9.10 ('web3-ethereum-defi-0d8b7oDT-py3.9')",
   "language": "python",
   "name": "python3"
  },
  "language_info": {
   "codemirror_mode": {
    "name": "ipython",
    "version": 3
   },
   "file_extension": ".py",
   "mimetype": "text/x-python",
   "name": "python",
   "nbconvert_exporter": "python",
   "pygments_lexer": "ipython3",
   "version": "3.9.10"
  },
  "orig_nbformat": 4
 },
 "nbformat": 4,
 "nbformat_minor": 2
}