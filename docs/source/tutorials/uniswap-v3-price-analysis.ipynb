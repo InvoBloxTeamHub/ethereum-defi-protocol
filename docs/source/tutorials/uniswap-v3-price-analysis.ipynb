{
 "cells": [
  {
   "cell_type": "markdown",
   "metadata": {},
   "source": [
    "# Uniswap V3 price analysis\n",
    "\n",
    "In this notebook we will show how to download price events from Uniswap V3 to your computer as CSV files and use them to analyse price in each pool.\n",
    "\n",
    "* You need to understand [Jupyter Notebook and Pandas basics](https://jakevdp.github.io/PythonDataScienceHandbook/)\n",
    "\n",
    "* You need to understand [Ethereum](https://github.com/ethereumbook/ethereumbook) and [Web3.py basics](https://web3py.readthedocs.io/)\n",
    "\n",
    "* You will need to have [Ethereum API node and its JSON-RPC URL](https://ethereumnodes.com/) in order to pull out the data from Ethereum blockchain. The notebook will interactively ask you for your API key."
   ]
  },
  {
   "cell_type": "markdown",
   "metadata": {},
   "source": [
    "### Setup the notebook"
   ]
  },
  {
   "cell_type": "code",
   "execution_count": 1,
   "metadata": {},
   "outputs": [],
   "source": [
    "%load_ext autoreload\n",
    "%autoreload 2"
   ]
  },
  {
   "cell_type": "code",
   "execution_count": 2,
   "metadata": {},
   "outputs": [
    {
     "name": "stderr",
     "output_type": "stream",
     "text": [
      "/Users/moo/code/executor/trade-executor/deps/web3-ethereum-defi/eth_defi/uniswap_v3/events.py:16: TqdmExperimentalWarning: Using `tqdm.autonotebook.tqdm` in notebook mode. Use `tqdm.tqdm` instead to force console mode (e.g. in jupyter console)\n",
      "  from tqdm.autonotebook import tqdm\n"
     ]
    }
   ],
   "source": [
    "import pandas as pd\n",
    "\n",
    "from eth_defi.uniswap_v3.constants import UNISWAP_V3_FACTORY_CREATED_AT_BLOCK\n",
    "from eth_defi.uniswap_v3.events import fetch_events_to_csv"
   ]
  },
  {
   "cell_type": "markdown",
   "metadata": {},
   "source": [
    "### Download the raw data from Ethereum blockchain\n",
    "\n",
    "For simplicity, you can sign up for free access to an Ethereum node for example at [Infura](https://infura.io/), however we recommend you to [run your own Ethereum node](https://tradingstrategy.ai/blog/preparing-a-server-for-hosting-goethereum-full-node)."
   ]
  },
  {
   "cell_type": "code",
   "execution_count": 3,
   "metadata": {},
   "outputs": [],
   "source": [
    "from web3 import Web3, HTTPProvider\n",
    "\n",
    "# Get your node JSON-RPC URL\n",
    "json_rpc_url = input(\"Please enter your Ethereum mainnet JSON-RPC URL here\")\n",
    "web3 = Web3(HTTPProvider(json_rpc_url))"
   ]
  },
  {
   "cell_type": "markdown",
   "metadata": {},
   "source": [
    "As an example, here we download raw events from first few blocks after Uniswap V3 was deployed.\n",
    "The events will be stored in several CSV files at `/tmp` folder.\n",
    "\n",
    "The scan will take hours. It can resumed on a crash, as we save the last scanned block in a JSON state file."
   ]
  },
  {
   "cell_type": "code",
   "execution_count": 4,
   "metadata": {},
   "outputs": [
    {
     "name": "stdout",
     "output_type": "stream",
     "text": [
      "Restored previous scan state, data until block 12,501,521, we are skipping 131,900 blocks out of 250,000 total\n",
      "Scanning block range 12,501,521 - 12,619,621\n"
     ]
    },
    {
     "data": {
      "text/plain": "  0%|          | 0/118100 [00:00<?, ?it/s]",
      "application/vnd.jupyter.widget-view+json": {
       "version_major": 2,
       "version_minor": 0,
       "model_id": "13437425fbf049e581506a3d9138d067"
      }
     },
     "metadata": {},
     "output_type": "display_data"
    },
    {
     "name": "stdout",
     "output_type": "stream",
     "text": [
      "Wrote 891 PoolCreated events\n",
      "Wrote 620171 Swap events\n",
      "Wrote 30725 Mint events\n",
      "Wrote 26585 Burn events\n"
     ]
    }
   ],
   "source": [
    "from eth_defi.event_reader.json_state import JSONFileScanState\n",
    "\n",
    "start_block = UNISWAP_V3_FACTORY_CREATED_AT_BLOCK\n",
    "end_block = UNISWAP_V3_FACTORY_CREATED_AT_BLOCK + 250_000\n",
    "\n",
    "# Stores the last block number of event data we store\n",
    "state = JSONFileScanState(\"/tmp/uniswap-v3-price-scan.json\")\n",
    "\n",
    "fetch_events_to_csv(json_rpc_url, state, start_block=start_block, end_block=end_block)"
   ]
  },
  {
   "cell_type": "markdown",
   "metadata": {},
   "source": [
    "### Analysing Uniswap v3 price formation\n",
    "\n",
    "In Uniswap V3, you can get the current price of any pool from any given moment using swap events."
   ]
  },
  {
   "cell_type": "code",
   "execution_count": 5,
   "metadata": {},
   "outputs": [
    {
     "name": "stdout",
     "output_type": "stream",
     "text": [
      "We have total 1,229,361 swaps in the dataset\n"
     ]
    }
   ],
   "source": [
    "swap_df = pd.read_csv(\"/tmp/uniswap-v3-swap.csv\")\n",
    "\n",
    "print(f\"We have total {len(swap_df):,} swaps in the dataset\")"
   ]
  },
  {
   "cell_type": "markdown",
   "source": [],
   "metadata": {
    "collapsed": false
   }
  },
  {
   "cell_type": "markdown",
   "metadata": {},
   "source": [
    "Choose a pool to analyse, for example: USDC/ETH 0.3%.\n",
    "You can find pool addresses [on Uniswap v3 info site](https://info.uniswap.org/#/)."
   ]
  },
  {
   "cell_type": "code",
   "execution_count": 6,
   "metadata": {},
   "outputs": [
    {
     "name": "stdout",
     "output_type": "stream",
     "text": [
      "Pool 0x8ad599c3A0ff1De082011EFDDc58f1908eb6e6D8 is USDC-WETH, with the fee 0.3000%\n",
      "token0 is <USD Coin (USDC) at 0xA0b86991c6218b36c1d19D4a2e9Eb0cE3606eB48> with 6 decimals\n",
      "token1 is <Wrapped Ether (WETH) at 0xC02aaA39b223FE8D0A0e5C4F27eAD9083C756Cc2> with 18 decimals\n"
     ]
    }
   ],
   "source": [
    "from eth_defi.uniswap_v3.pool import fetch_pool_details\n",
    "\n",
    "pool_address = \"0x8ad599c3A0ff1De082011EFDDc58f1908eb6e6D8\"\n",
    "pool_details = fetch_pool_details(web3, pool_address)\n",
    "\n",
    "print(pool_details)\n",
    "print(\"token0 is\", pool_details.token0, \"with\", pool_details.token0.decimals, \"decimals\")\n",
    "print(\"token1 is\", pool_details.token1, \"with\", pool_details.token1.decimals, \"decimals\")"
   ]
  },
  {
   "cell_type": "markdown",
   "metadata": {},
   "source": [
    "Extract the swaps of this pool from the Uniswap v3 full dataset of all pools."
   ]
  },
  {
   "cell_type": "code",
   "execution_count": 6,
   "outputs": [],
   "source": [],
   "metadata": {
    "collapsed": false,
    "pycharm": {
     "name": "#%%\n"
    }
   }
  },
  {
   "cell_type": "code",
   "execution_count": 7,
   "metadata": {},
   "outputs": [
    {
     "data": {
      "text/plain": "         block_number            timestamp  \\\n19           12371376  2021-05-05T01:56:23   \n21           12373132  2021-05-05T08:23:26   \n25           12373520  2021-05-05T09:50:51   \n26           12374077  2021-05-05T11:59:57   \n27           12374320  2021-05-05T12:56:56   \n...               ...                  ...   \n1229165      12619596  2021-06-12T12:16:13   \n1229184      12619598  2021-06-12T12:16:25   \n1229186      12619598  2021-06-12T12:16:25   \n1229190      12619598  2021-06-12T12:16:25   \n1229350      12619619  2021-06-12T12:21:51   \n\n                                                   tx_hash  log_index  \\\n19       0xce7c3c307d820785caa12938012372fc9366a614a6aa...         26   \n21       0x9a1c51b0bffbf840948f3b6e3f3e495ba1cd3fa64854...        192   \n25       0xc58715c62a5bf70a6ca09f0e51546d6cad76c8d4fff0...          8   \n26       0x288c21b8b4fbf449b1d086a06e43b124ac2bc088c3f5...         86   \n27       0x67502d8ba373287f6d301f6baa77c5a5f4c80d0753c3...        257   \n...                                                    ...        ...   \n1229165  0x8c1f6c5639b304eb0087c2b6d5b65e32ee4f1a51e8b0...        112   \n1229184  0xac8e34aa704a1ab4068bd93d4b5aef0fb7655d292fc9...          3   \n1229186  0x0752c6529f939f046c7f9648e8d27d76b1cf767d6902...          8   \n1229190  0xbd9193ff70e4828a43679f955c9707fa63fe1dabeed3...         45   \n1229350  0x91f7b948333f452324270b09d6cb074b69dda7647f4c...        281   \n\n                              pool_contract_address       amount0  \\\n19       0x8ad599c3a0ff1de082011efddc58f1908eb6e6d8       -329608   \n21       0x8ad599c3a0ff1de082011efddc58f1908eb6e6d8    -164694492   \n25       0x8ad599c3a0ff1de082011efddc58f1908eb6e6d8       -329169   \n26       0x8ad599c3a0ff1de082011efddc58f1908eb6e6d8             2   \n27       0x8ad599c3a0ff1de082011efddc58f1908eb6e6d8    1559137299   \n...                                             ...           ...   \n1229165  0x8ad599c3a0ff1de082011efddc58f1908eb6e6d8   92432639474   \n1229184  0x8ad599c3a0ff1de082011efddc58f1908eb6e6d8   76760509615   \n1229186  0x8ad599c3a0ff1de082011efddc58f1908eb6e6d8  482579746068   \n1229190  0x8ad599c3a0ff1de082011efddc58f1908eb6e6d8  679981136491   \n1229350  0x8ad599c3a0ff1de082011efddc58f1908eb6e6d8       8388626   \n\n                        amount1                      sqrt_price_x96  \\\n19              100000000000000  1377932816571815120446551350158799   \n21            50000000000000000  1378850591292581266780357299649652   \n25              100000000000000  1378852426842022799073024911548633   \n26                      -329169  1378852426842016741051966412054516   \n27          -467880854065813753  1370241555019945317645788135487819   \n...                         ...                                 ...   \n1229165   -38329545577539549888  1615736234513681125600943820478722   \n1229184   -31826486546079303210  1615639241428978886102798535892145   \n1229186  -200000000000000000000  1615029729696907486273078115160620   \n1229190  -281554906013205614934  1614171674604720940565192048438458   \n1229350       -3471572647773651  1614171664025625771996673894396803   \n\n                    liquidity    tick  \n19           4303369674465501  195285  \n21           4303369674465501  195298  \n25           4303369674465501  195298  \n26           4304946248093346  195298  \n27           4304946248093346  195173  \n...                       ...     ...  \n1229165  25998097729965548918  198469  \n1229184  25997255949450154096  198468  \n1229186  25997255949450154096  198460  \n1229190  25997255949450154096  198449  \n1229350  25999040327671324243  198449  \n\n[64090 rows x 10 columns]",
      "text/html": "<div>\n<style scoped>\n    .dataframe tbody tr th:only-of-type {\n        vertical-align: middle;\n    }\n\n    .dataframe tbody tr th {\n        vertical-align: top;\n    }\n\n    .dataframe thead th {\n        text-align: right;\n    }\n</style>\n<table border=\"1\" class=\"dataframe\">\n  <thead>\n    <tr style=\"text-align: right;\">\n      <th></th>\n      <th>block_number</th>\n      <th>timestamp</th>\n      <th>tx_hash</th>\n      <th>log_index</th>\n      <th>pool_contract_address</th>\n      <th>amount0</th>\n      <th>amount1</th>\n      <th>sqrt_price_x96</th>\n      <th>liquidity</th>\n      <th>tick</th>\n    </tr>\n  </thead>\n  <tbody>\n    <tr>\n      <th>19</th>\n      <td>12371376</td>\n      <td>2021-05-05T01:56:23</td>\n      <td>0xce7c3c307d820785caa12938012372fc9366a614a6aa...</td>\n      <td>26</td>\n      <td>0x8ad599c3a0ff1de082011efddc58f1908eb6e6d8</td>\n      <td>-329608</td>\n      <td>100000000000000</td>\n      <td>1377932816571815120446551350158799</td>\n      <td>4303369674465501</td>\n      <td>195285</td>\n    </tr>\n    <tr>\n      <th>21</th>\n      <td>12373132</td>\n      <td>2021-05-05T08:23:26</td>\n      <td>0x9a1c51b0bffbf840948f3b6e3f3e495ba1cd3fa64854...</td>\n      <td>192</td>\n      <td>0x8ad599c3a0ff1de082011efddc58f1908eb6e6d8</td>\n      <td>-164694492</td>\n      <td>50000000000000000</td>\n      <td>1378850591292581266780357299649652</td>\n      <td>4303369674465501</td>\n      <td>195298</td>\n    </tr>\n    <tr>\n      <th>25</th>\n      <td>12373520</td>\n      <td>2021-05-05T09:50:51</td>\n      <td>0xc58715c62a5bf70a6ca09f0e51546d6cad76c8d4fff0...</td>\n      <td>8</td>\n      <td>0x8ad599c3a0ff1de082011efddc58f1908eb6e6d8</td>\n      <td>-329169</td>\n      <td>100000000000000</td>\n      <td>1378852426842022799073024911548633</td>\n      <td>4303369674465501</td>\n      <td>195298</td>\n    </tr>\n    <tr>\n      <th>26</th>\n      <td>12374077</td>\n      <td>2021-05-05T11:59:57</td>\n      <td>0x288c21b8b4fbf449b1d086a06e43b124ac2bc088c3f5...</td>\n      <td>86</td>\n      <td>0x8ad599c3a0ff1de082011efddc58f1908eb6e6d8</td>\n      <td>2</td>\n      <td>-329169</td>\n      <td>1378852426842016741051966412054516</td>\n      <td>4304946248093346</td>\n      <td>195298</td>\n    </tr>\n    <tr>\n      <th>27</th>\n      <td>12374320</td>\n      <td>2021-05-05T12:56:56</td>\n      <td>0x67502d8ba373287f6d301f6baa77c5a5f4c80d0753c3...</td>\n      <td>257</td>\n      <td>0x8ad599c3a0ff1de082011efddc58f1908eb6e6d8</td>\n      <td>1559137299</td>\n      <td>-467880854065813753</td>\n      <td>1370241555019945317645788135487819</td>\n      <td>4304946248093346</td>\n      <td>195173</td>\n    </tr>\n    <tr>\n      <th>...</th>\n      <td>...</td>\n      <td>...</td>\n      <td>...</td>\n      <td>...</td>\n      <td>...</td>\n      <td>...</td>\n      <td>...</td>\n      <td>...</td>\n      <td>...</td>\n      <td>...</td>\n    </tr>\n    <tr>\n      <th>1229165</th>\n      <td>12619596</td>\n      <td>2021-06-12T12:16:13</td>\n      <td>0x8c1f6c5639b304eb0087c2b6d5b65e32ee4f1a51e8b0...</td>\n      <td>112</td>\n      <td>0x8ad599c3a0ff1de082011efddc58f1908eb6e6d8</td>\n      <td>92432639474</td>\n      <td>-38329545577539549888</td>\n      <td>1615736234513681125600943820478722</td>\n      <td>25998097729965548918</td>\n      <td>198469</td>\n    </tr>\n    <tr>\n      <th>1229184</th>\n      <td>12619598</td>\n      <td>2021-06-12T12:16:25</td>\n      <td>0xac8e34aa704a1ab4068bd93d4b5aef0fb7655d292fc9...</td>\n      <td>3</td>\n      <td>0x8ad599c3a0ff1de082011efddc58f1908eb6e6d8</td>\n      <td>76760509615</td>\n      <td>-31826486546079303210</td>\n      <td>1615639241428978886102798535892145</td>\n      <td>25997255949450154096</td>\n      <td>198468</td>\n    </tr>\n    <tr>\n      <th>1229186</th>\n      <td>12619598</td>\n      <td>2021-06-12T12:16:25</td>\n      <td>0x0752c6529f939f046c7f9648e8d27d76b1cf767d6902...</td>\n      <td>8</td>\n      <td>0x8ad599c3a0ff1de082011efddc58f1908eb6e6d8</td>\n      <td>482579746068</td>\n      <td>-200000000000000000000</td>\n      <td>1615029729696907486273078115160620</td>\n      <td>25997255949450154096</td>\n      <td>198460</td>\n    </tr>\n    <tr>\n      <th>1229190</th>\n      <td>12619598</td>\n      <td>2021-06-12T12:16:25</td>\n      <td>0xbd9193ff70e4828a43679f955c9707fa63fe1dabeed3...</td>\n      <td>45</td>\n      <td>0x8ad599c3a0ff1de082011efddc58f1908eb6e6d8</td>\n      <td>679981136491</td>\n      <td>-281554906013205614934</td>\n      <td>1614171674604720940565192048438458</td>\n      <td>25997255949450154096</td>\n      <td>198449</td>\n    </tr>\n    <tr>\n      <th>1229350</th>\n      <td>12619619</td>\n      <td>2021-06-12T12:21:51</td>\n      <td>0x91f7b948333f452324270b09d6cb074b69dda7647f4c...</td>\n      <td>281</td>\n      <td>0x8ad599c3a0ff1de082011efddc58f1908eb6e6d8</td>\n      <td>8388626</td>\n      <td>-3471572647773651</td>\n      <td>1614171664025625771996673894396803</td>\n      <td>25999040327671324243</td>\n      <td>198449</td>\n    </tr>\n  </tbody>\n</table>\n<p>64090 rows × 10 columns</p>\n</div>"
     },
     "execution_count": 7,
     "metadata": {},
     "output_type": "execute_result"
    }
   ],
   "source": [
    "df = swap_df.loc[swap_df.pool_contract_address == pool_address.lower()]\n",
    "df"
   ]
  },
  {
   "cell_type": "markdown",
   "metadata": {},
   "source": [
    "In Uniswap V3, we can get pool's price from pool's tick."
   ]
  },
  {
   "cell_type": "code",
   "execution_count": 8,
   "outputs": [
    {
     "data": {
      "text/plain": "3301.715764042296"
     },
     "execution_count": 8,
     "metadata": {},
     "output_type": "execute_result"
    }
   ],
   "source": [
    "tick = 195298  # Fetched from Uni v3 USDC/WETH by hand\n",
    "pool_details.convert_price_to_human(tick, True)"
   ],
   "metadata": {
    "collapsed": false,
    "pycharm": {
     "name": "#%%\n"
    }
   }
  },
  {
   "cell_type": "code",
   "execution_count": 9,
   "metadata": {},
   "outputs": [
    {
     "data": {
      "text/plain": "         block_number            timestamp    tick        price          value\n19           12371376  2021-05-05T01:56:23  195285  3306.010571       0.329608\n21           12373132  2021-05-05T08:23:26  195298  3301.715764     164.694492\n25           12373520  2021-05-05T09:50:51  195298  3301.715764       0.329169\n26           12374077  2021-05-05T11:59:57  195298  3301.715764       0.000002\n27           12374320  2021-05-05T12:56:56  195173  3343.244146    1559.137299\n...               ...                  ...     ...          ...            ...\n1229165      12619596  2021-06-12T12:16:13  198469  2404.538795   92432.639474\n1229184      12619598  2021-06-12T12:16:25  198468  2404.779249   76760.509615\n1229186      12619598  2021-06-12T12:16:25  198460  2406.703745  482579.746068\n1229190      12619598  2021-06-12T12:16:25  198449  2409.352444  679981.136491\n1229350      12619619  2021-06-12T12:21:51  198449  2409.352444       8.388626\n\n[64090 rows x 5 columns]",
      "text/html": "<div>\n<style scoped>\n    .dataframe tbody tr th:only-of-type {\n        vertical-align: middle;\n    }\n\n    .dataframe tbody tr th {\n        vertical-align: top;\n    }\n\n    .dataframe thead th {\n        text-align: right;\n    }\n</style>\n<table border=\"1\" class=\"dataframe\">\n  <thead>\n    <tr style=\"text-align: right;\">\n      <th></th>\n      <th>block_number</th>\n      <th>timestamp</th>\n      <th>tick</th>\n      <th>price</th>\n      <th>value</th>\n    </tr>\n  </thead>\n  <tbody>\n    <tr>\n      <th>19</th>\n      <td>12371376</td>\n      <td>2021-05-05T01:56:23</td>\n      <td>195285</td>\n      <td>3306.010571</td>\n      <td>0.329608</td>\n    </tr>\n    <tr>\n      <th>21</th>\n      <td>12373132</td>\n      <td>2021-05-05T08:23:26</td>\n      <td>195298</td>\n      <td>3301.715764</td>\n      <td>164.694492</td>\n    </tr>\n    <tr>\n      <th>25</th>\n      <td>12373520</td>\n      <td>2021-05-05T09:50:51</td>\n      <td>195298</td>\n      <td>3301.715764</td>\n      <td>0.329169</td>\n    </tr>\n    <tr>\n      <th>26</th>\n      <td>12374077</td>\n      <td>2021-05-05T11:59:57</td>\n      <td>195298</td>\n      <td>3301.715764</td>\n      <td>0.000002</td>\n    </tr>\n    <tr>\n      <th>27</th>\n      <td>12374320</td>\n      <td>2021-05-05T12:56:56</td>\n      <td>195173</td>\n      <td>3343.244146</td>\n      <td>1559.137299</td>\n    </tr>\n    <tr>\n      <th>...</th>\n      <td>...</td>\n      <td>...</td>\n      <td>...</td>\n      <td>...</td>\n      <td>...</td>\n    </tr>\n    <tr>\n      <th>1229165</th>\n      <td>12619596</td>\n      <td>2021-06-12T12:16:13</td>\n      <td>198469</td>\n      <td>2404.538795</td>\n      <td>92432.639474</td>\n    </tr>\n    <tr>\n      <th>1229184</th>\n      <td>12619598</td>\n      <td>2021-06-12T12:16:25</td>\n      <td>198468</td>\n      <td>2404.779249</td>\n      <td>76760.509615</td>\n    </tr>\n    <tr>\n      <th>1229186</th>\n      <td>12619598</td>\n      <td>2021-06-12T12:16:25</td>\n      <td>198460</td>\n      <td>2406.703745</td>\n      <td>482579.746068</td>\n    </tr>\n    <tr>\n      <th>1229190</th>\n      <td>12619598</td>\n      <td>2021-06-12T12:16:25</td>\n      <td>198449</td>\n      <td>2409.352444</td>\n      <td>679981.136491</td>\n    </tr>\n    <tr>\n      <th>1229350</th>\n      <td>12619619</td>\n      <td>2021-06-12T12:21:51</td>\n      <td>198449</td>\n      <td>2409.352444</td>\n      <td>8.388626</td>\n    </tr>\n  </tbody>\n</table>\n<p>64090 rows × 5 columns</p>\n</div>"
     },
     "execution_count": 9,
     "metadata": {},
     "output_type": "execute_result"
    }
   ],
   "source": [
    "def convert_price(row):\n",
    "    # USDC/WETH pool has reverse token order, so let's flip it WETH/USDC\n",
    "    tick = row[\"tick\"]\n",
    "    return pool_details.convert_price_to_human(tick, reverse_token_order=True)\n",
    "\n",
    "def convert_value(row):\n",
    "    # USDC is token0 and amount0\n",
    "    price = float(row[\"price\"])\n",
    "    return abs(float(row[\"amount0\"])) / (10**pool_details.token0.decimals)\n",
    "\n",
    "df = df.copy(deep=True)  # https://stackoverflow.com/a/60885847/315168\n",
    "df[\"price\"] = df.apply(convert_price, axis=1)\n",
    "df[\"value\"] = df.apply(convert_value, axis=1)\n",
    "df[[\"block_number\", \"timestamp\", \"tick\", \"price\", \"value\"]]"
   ]
  },
  {
   "cell_type": "markdown",
   "metadata": {},
   "source": [
    "Then we can convert linear price data to [OHLC candles](https://tradingstrategy.ai/docs/glossary.html#term-OHLCV)."
   ]
  },
  {
   "cell_type": "code",
   "execution_count": 10,
   "outputs": [
    {
     "data": {
      "text/plain": "                            open         high          low        close  \\\ntimestamp                                                                 \n2021-05-05 00:00:00  3306.010571  3306.010571  3306.010571  3306.010571   \n2021-05-05 04:00:00          NaN          NaN          NaN          NaN   \n2021-05-05 08:00:00  3301.715764  3301.715764  3301.715764  3301.715764   \n2021-05-05 12:00:00  3343.244146  3343.244146  3343.244146  3343.244146   \n2021-05-05 16:00:00  3343.244146  3476.895080  3343.244146  3430.617750   \n...                          ...          ...          ...          ...   \n2021-06-11 20:00:00  2404.057959  2404.057959  2331.145239  2350.338254   \n2021-06-12 00:00:00  2352.924919  2355.278903  2269.049487  2295.292854   \n2021-06-12 04:00:00  2295.292854  2322.304138  2269.049487  2322.304138   \n2021-06-12 08:00:00  2321.607586  2387.289151  2310.722175  2382.996110   \n2021-06-12 12:00:00  2382.996110  2409.352444  2382.996110  2409.352444   \n\n                           volume  \ntimestamp                          \n2021-05-05 00:00:00  3.296080e-01  \n2021-05-05 04:00:00  0.000000e+00  \n2021-05-05 08:00:00  1.650237e+02  \n2021-05-05 12:00:00  1.559137e+03  \n2021-05-05 16:00:00  1.393686e+05  \n...                           ...  \n2021-06-11 20:00:00  4.610597e+07  \n2021-06-12 00:00:00  6.296202e+07  \n2021-06-12 04:00:00  3.029506e+07  \n2021-06-12 08:00:00  3.661966e+07  \n2021-06-12 12:00:00  6.740741e+06  \n\n[232 rows x 5 columns]",
      "text/html": "<div>\n<style scoped>\n    .dataframe tbody tr th:only-of-type {\n        vertical-align: middle;\n    }\n\n    .dataframe tbody tr th {\n        vertical-align: top;\n    }\n\n    .dataframe thead th {\n        text-align: right;\n    }\n</style>\n<table border=\"1\" class=\"dataframe\">\n  <thead>\n    <tr style=\"text-align: right;\">\n      <th></th>\n      <th>open</th>\n      <th>high</th>\n      <th>low</th>\n      <th>close</th>\n      <th>volume</th>\n    </tr>\n    <tr>\n      <th>timestamp</th>\n      <th></th>\n      <th></th>\n      <th></th>\n      <th></th>\n      <th></th>\n    </tr>\n  </thead>\n  <tbody>\n    <tr>\n      <th>2021-05-05 00:00:00</th>\n      <td>3306.010571</td>\n      <td>3306.010571</td>\n      <td>3306.010571</td>\n      <td>3306.010571</td>\n      <td>3.296080e-01</td>\n    </tr>\n    <tr>\n      <th>2021-05-05 04:00:00</th>\n      <td>NaN</td>\n      <td>NaN</td>\n      <td>NaN</td>\n      <td>NaN</td>\n      <td>0.000000e+00</td>\n    </tr>\n    <tr>\n      <th>2021-05-05 08:00:00</th>\n      <td>3301.715764</td>\n      <td>3301.715764</td>\n      <td>3301.715764</td>\n      <td>3301.715764</td>\n      <td>1.650237e+02</td>\n    </tr>\n    <tr>\n      <th>2021-05-05 12:00:00</th>\n      <td>3343.244146</td>\n      <td>3343.244146</td>\n      <td>3343.244146</td>\n      <td>3343.244146</td>\n      <td>1.559137e+03</td>\n    </tr>\n    <tr>\n      <th>2021-05-05 16:00:00</th>\n      <td>3343.244146</td>\n      <td>3476.895080</td>\n      <td>3343.244146</td>\n      <td>3430.617750</td>\n      <td>1.393686e+05</td>\n    </tr>\n    <tr>\n      <th>...</th>\n      <td>...</td>\n      <td>...</td>\n      <td>...</td>\n      <td>...</td>\n      <td>...</td>\n    </tr>\n    <tr>\n      <th>2021-06-11 20:00:00</th>\n      <td>2404.057959</td>\n      <td>2404.057959</td>\n      <td>2331.145239</td>\n      <td>2350.338254</td>\n      <td>4.610597e+07</td>\n    </tr>\n    <tr>\n      <th>2021-06-12 00:00:00</th>\n      <td>2352.924919</td>\n      <td>2355.278903</td>\n      <td>2269.049487</td>\n      <td>2295.292854</td>\n      <td>6.296202e+07</td>\n    </tr>\n    <tr>\n      <th>2021-06-12 04:00:00</th>\n      <td>2295.292854</td>\n      <td>2322.304138</td>\n      <td>2269.049487</td>\n      <td>2322.304138</td>\n      <td>3.029506e+07</td>\n    </tr>\n    <tr>\n      <th>2021-06-12 08:00:00</th>\n      <td>2321.607586</td>\n      <td>2387.289151</td>\n      <td>2310.722175</td>\n      <td>2382.996110</td>\n      <td>3.661966e+07</td>\n    </tr>\n    <tr>\n      <th>2021-06-12 12:00:00</th>\n      <td>2382.996110</td>\n      <td>2409.352444</td>\n      <td>2382.996110</td>\n      <td>2409.352444</td>\n      <td>6.740741e+06</td>\n    </tr>\n  </tbody>\n</table>\n<p>232 rows × 5 columns</p>\n</div>"
     },
     "execution_count": 10,
     "metadata": {},
     "output_type": "execute_result"
    }
   ],
   "source": [
    "from eth_defi.research.candle import convert_to_ohlcv_candles\n",
    "\n",
    "candles = convert_to_ohlcv_candles(df, time_bucket=pd.Timedelta(\"4h\"))\n",
    "candles"
   ],
   "metadata": {
    "collapsed": false,
    "pycharm": {
     "name": "#%%\n"
    }
   }
  },
  {
   "cell_type": "markdown",
   "source": [
    "Now we can plot the [OHLC chart using Plotly](https://plotly.com/python/ohlc-charts/)."
   ],
   "metadata": {
    "collapsed": false,
    "pycharm": {
     "name": "#%% md\n"
    }
   }
  },
  {
   "cell_type": "code",
   "execution_count": 11,
   "metadata": {},
   "outputs": [],
   "source": [
    "import plotly.graph_objects as go\n",
    "from plotly.subplots import make_subplots\n",
    "\n",
    "candlesticks = go.Candlestick(\n",
    "    x=candles.index,\n",
    "    open=candles['open'],\n",
    "    high=candles['high'],\n",
    "    low=candles['low'],\n",
    "    close=candles['close'])\n",
    "\n",
    "volume_bars = go.Bar(\n",
    "    x=candles.index,\n",
    "    y=candles['volume'],\n",
    "    showlegend=False)\n",
    "\n",
    "fig = go.Figure(candlesticks)\n",
    "fig = make_subplots(specs=[[{\"secondary_y\": True}]])\n",
    "fig.add_trace(candlesticks, secondary_y=True)\n",
    "fig.add_trace(volume_bars, secondary_y=False)\n",
    "fig.update_layout(title=\"ETH/USDC price after Uniswap v3 was deployed\", height=800)\n",
    "fig.update_yaxes(title=\"Price $\", secondary_y=True, showgrid=False)\n",
    "fig.update_yaxes(title=\"Volume $\", secondary_y=False, showgrid=False)\n",
    "fig.show()"
   ]
  },
  {
   "cell_type": "code",
   "execution_count": 11,
   "outputs": [],
   "source": [],
   "metadata": {
    "collapsed": false,
    "pycharm": {
     "name": "#%%\n"
    }
   }
  }
 ],
 "metadata": {
  "interpreter": {
   "hash": "9b6697946b59f1cda35d1a9d955611df8679c38ae8cee6d6fc35b656a9a31b3c"
  },
  "kernelspec": {
   "display_name": "Python 3.9.10 ('web3-ethereum-defi-0d8b7oDT-py3.9')",
   "language": "python",
   "name": "python3"
  },
  "language_info": {
   "codemirror_mode": {
    "name": "ipython",
    "version": 3
   },
   "file_extension": ".py",
   "mimetype": "text/x-python",
   "name": "python",
   "nbconvert_exporter": "python",
   "pygments_lexer": "ipython3",
   "version": "3.9.10"
  },
  "orig_nbformat": 4
 },
 "nbformat": 4,
 "nbformat_minor": 2
}