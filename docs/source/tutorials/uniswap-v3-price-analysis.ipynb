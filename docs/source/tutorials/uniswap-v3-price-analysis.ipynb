{
 "cells": [
  {
   "cell_type": "markdown",
   "metadata": {},
   "source": [
    "# Uniswap V3 price analysis\n",
    "\n",
    "In this notebook we will show how to download price events from Uniswap V3 to your computer as CSV files and use them to analyse price in each pool.\n",
    "\n",
    "You will need to havev Ethereum JSON-RPC API node URL in order to pull out the data from Ethereum blockchain.\n",
    "You will be interactively asked for this API key."
   ]
  },
  {
   "cell_type": "markdown",
   "metadata": {},
   "source": [
    "### Setup the notebook"
   ]
  },
  {
   "cell_type": "code",
   "execution_count": 300,
   "metadata": {},
   "outputs": [
    {
     "name": "stdout",
     "output_type": "stream",
     "text": [
      "The autoreload extension is already loaded. To reload it, use:\n",
      "  %reload_ext autoreload\n"
     ]
    }
   ],
   "source": [
    "%load_ext autoreload\n",
    "%autoreload 2"
   ]
  },
  {
   "cell_type": "code",
   "execution_count": 301,
   "metadata": {},
   "outputs": [],
   "source": [
    "import pandas as pd\n",
    "import matplotlib.pyplot as plt\n",
    "\n",
    "from eth_defi.uniswap_v3.constants import UNISWAP_V3_FACTORY_CREATED_AT_BLOCK\n",
    "from eth_defi.uniswap_v3.events import fetch_events_to_csv"
   ]
  },
  {
   "cell_type": "markdown",
   "metadata": {},
   "source": [
    "### Download the raw data\n",
    "\n",
    "For simplicity, you can sign up for free access to an Ethereum node for example at [Infura](https://infura.io/), however we recommend you to [run your own Ethereum node](https://tradingstrategy.ai/blog/preparing-a-server-for-hosting-goethereum-full-node)."
   ]
  },
  {
   "cell_type": "code",
   "execution_count": 302,
   "metadata": {},
   "outputs": [],
   "source": [
    "from web3 import Web3, HTTPProvider\n",
    "\n",
    "# Get your node JSON-RPC URL\n",
    "json_rpc_url = input(\"Please enter your Ethereum mainnet JSON-RPC URL here\")\n",
    "web3 = Web3(HTTPProvider(json_rpc_url))"
   ]
  },
  {
   "cell_type": "markdown",
   "metadata": {},
   "source": [
    "As an example, here we download raw events from first few blocks after Uniswap V3 was deployed.\n",
    "The events will be stored in several CSV files at `/tmp` folder.\n",
    "\n",
    "The scan will take hours. It can resumed on a crash, as we save the last scanned block in a JSON state file."
   ]
  },
  {
   "cell_type": "code",
   "execution_count": 303,
   "metadata": {},
   "outputs": [
    {
     "name": "stdout",
     "output_type": "stream",
     "text": [
      "Restored previous scan state, data until block 12,619,621, we are skipping 250,000 blocks out of 250,000 total\n",
      "Scanning block range 12,619,621 - 12,619,621\n"
     ]
    },
    {
     "data": {
      "text/plain": "0it [00:00, ?it/s]",
      "application/vnd.jupyter.widget-view+json": {
       "version_major": 2,
       "version_minor": 0,
       "model_id": "0b7931c246b3422e9ed901e05d8ff830"
      }
     },
     "metadata": {},
     "output_type": "display_data"
    },
    {
     "name": "stdout",
     "output_type": "stream",
     "text": [
      "Wrote 0 PoolCreated events\n",
      "Wrote 0 Swap events\n",
      "Wrote 0 Mint events\n",
      "Wrote 0 Burn events\n"
     ]
    }
   ],
   "source": [
    "from eth_defi.event_reader.json_state import JSONFileScanState\n",
    "\n",
    "start_block = UNISWAP_V3_FACTORY_CREATED_AT_BLOCK\n",
    "end_block = UNISWAP_V3_FACTORY_CREATED_AT_BLOCK + 250_000\n",
    "\n",
    "# Stores the last block number of event data we store\n",
    "state = JSONFileScanState(\"/tmp/uniswap-v3-price-scan.json\")\n",
    "\n",
    "fetch_events_to_csv(json_rpc_url, state, start_block=start_block, end_block=end_block)"
   ]
  },
  {
   "cell_type": "markdown",
   "metadata": {},
   "source": [
    "### Analysing Uniswap v3 price formation\n",
    "\n",
    "In Uniswap V3, you can get the current price of any pool from any given moment using swap events."
   ]
  },
  {
   "cell_type": "code",
   "execution_count": 304,
   "metadata": {},
   "outputs": [
    {
     "name": "stdout",
     "output_type": "stream",
     "text": [
      "We have total 1,229,369 swaps in the dataset\n"
     ]
    }
   ],
   "source": [
    "swap_df = pd.read_csv(\"/tmp/uniswap-v3-swap.csv\")\n",
    "\n",
    "print(f\"We have total {len(swap_df):,} swaps in the dataset\")"
   ]
  },
  {
   "cell_type": "markdown",
   "source": [],
   "metadata": {
    "collapsed": false
   }
  },
  {
   "cell_type": "markdown",
   "metadata": {},
   "source": [
    "Choose a pool to analyse, for example: USDC/ETH 0.3%.\n",
    "You can find pool addresses [on Uniswap v3 info site](https://info.uniswap.org/#/)."
   ]
  },
  {
   "cell_type": "code",
   "execution_count": 305,
   "metadata": {},
   "outputs": [
    {
     "name": "stdout",
     "output_type": "stream",
     "text": [
      "Pool 0x8ad599c3A0ff1De082011EFDDc58f1908eb6e6D8 is USDC-WETH, with the fee 0.3000%\n"
     ]
    }
   ],
   "source": [
    "from eth_defi.uniswap_v3.pool import fetch_pool_details\n",
    "\n",
    "pool_address = \"0x8ad599c3A0ff1De082011EFDDc58f1908eb6e6D8\"\n",
    "pool_details = fetch_pool_details(web3, pool_address)\n",
    "\n",
    "print(pool_details)"
   ]
  },
  {
   "cell_type": "markdown",
   "metadata": {},
   "source": [
    "Extract the swaps of this pool from the Uniswap v3 full dataset of all pools."
   ]
  },
  {
   "cell_type": "code",
   "execution_count": 306,
   "metadata": {},
   "outputs": [
    {
     "data": {
      "text/plain": "         block_number            timestamp  \\\n19           12371376  2021-05-05T01:56:23   \n21           12373132  2021-05-05T08:23:26   \n25           12373520  2021-05-05T09:50:51   \n26           12374077  2021-05-05T11:59:57   \n45           12375770  2021-05-05T18:09:23   \n...               ...                  ...   \n1229173      12619596  2021-06-12T12:16:13   \n1229192      12619598  2021-06-12T12:16:25   \n1229194      12619598  2021-06-12T12:16:25   \n1229198      12619598  2021-06-12T12:16:25   \n1229358      12619619  2021-06-12T12:21:51   \n\n                                                   tx_hash  log_index  \\\n19       0xce7c3c307d820785caa12938012372fc9366a614a6aa...         26   \n21       0x9a1c51b0bffbf840948f3b6e3f3e495ba1cd3fa64854...        192   \n25       0xc58715c62a5bf70a6ca09f0e51546d6cad76c8d4fff0...          8   \n26       0x288c21b8b4fbf449b1d086a06e43b124ac2bc088c3f5...         86   \n45       0xf76f19b991131f0f396f116f79215637dacad3cf5e1b...        249   \n...                                                    ...        ...   \n1229173  0x8c1f6c5639b304eb0087c2b6d5b65e32ee4f1a51e8b0...        112   \n1229192  0xac8e34aa704a1ab4068bd93d4b5aef0fb7655d292fc9...          3   \n1229194  0x0752c6529f939f046c7f9648e8d27d76b1cf767d6902...          8   \n1229198  0xbd9193ff70e4828a43679f955c9707fa63fe1dabeed3...         45   \n1229358  0x91f7b948333f452324270b09d6cb074b69dda7647f4c...        281   \n\n                              pool_contract_address  \\\n19       0x8ad599c3a0ff1de082011efddc58f1908eb6e6d8   \n21       0x8ad599c3a0ff1de082011efddc58f1908eb6e6d8   \n25       0x8ad599c3a0ff1de082011efddc58f1908eb6e6d8   \n26       0x8ad599c3a0ff1de082011efddc58f1908eb6e6d8   \n45       0x8ad599c3a0ff1de082011efddc58f1908eb6e6d8   \n...                                             ...   \n1229173  0x8ad599c3a0ff1de082011efddc58f1908eb6e6d8   \n1229192  0x8ad599c3a0ff1de082011efddc58f1908eb6e6d8   \n1229194  0x8ad599c3a0ff1de082011efddc58f1908eb6e6d8   \n1229198  0x8ad599c3a0ff1de082011efddc58f1908eb6e6d8   \n1229358  0x8ad599c3a0ff1de082011efddc58f1908eb6e6d8   \n\n                                                   amount0  \\\n19       1157920892373161954235709850086879078532699846...   \n21       1157920892373161954235709850086879078532699846...   \n25       1157920892373161954235709850086879078532699846...   \n26                                                       2   \n45       1157920892373161954235709850086879078532699846...   \n...                                                    ...   \n1229173                                        92432639474   \n1229192                                        76760509615   \n1229194                                       482579746068   \n1229198                                       679981136491   \n1229358                                            8388626   \n\n                                                   amount1  \\\n19                                         100000000000000   \n21                                       50000000000000000   \n25                                         100000000000000   \n26       1157920892373161954235709850086879078532699846...   \n45                                         300000000000000   \n...                                                    ...   \n1229173  1157920892373161954235709850086879078532699846...   \n1229192  1157920892373161954235709850086879078532699846...   \n1229194  1157920892373161954235709850086879078532699846...   \n1229198  1157920892373161954235709850086879078532699846...   \n1229358  1157920892373161954235709850086879078532699846...   \n\n                             sqrt_price_x96             liquidity    tick  \n19       1377932816571815120446551350158799      4303369674465501  195285  \n21       1378850591292581266780357299649652      4303369674465501  195298  \n25       1378852426842022799073024911548633      4303369674465501  195298  \n26       1378852426842016741051966412054516      4304946248093346  195298  \n45       1370242002332554394456531434422627     52976694435070763  195173  \n...                                     ...                   ...     ...  \n1229173  1615736234513681125600943820478722  25998097729965548918  198469  \n1229192  1615639241428978886102798535892145  25997255949450154096  198468  \n1229194  1615029729696907486273078115160620  25997255949450154096  198460  \n1229198  1614171674604720940565192048438458  25997255949450154096  198449  \n1229358  1614171664025625771996673894396803  25999040327671324243  198449  \n\n[64094 rows x 10 columns]",
      "text/html": "<div>\n<style scoped>\n    .dataframe tbody tr th:only-of-type {\n        vertical-align: middle;\n    }\n\n    .dataframe tbody tr th {\n        vertical-align: top;\n    }\n\n    .dataframe thead th {\n        text-align: right;\n    }\n</style>\n<table border=\"1\" class=\"dataframe\">\n  <thead>\n    <tr style=\"text-align: right;\">\n      <th></th>\n      <th>block_number</th>\n      <th>timestamp</th>\n      <th>tx_hash</th>\n      <th>log_index</th>\n      <th>pool_contract_address</th>\n      <th>amount0</th>\n      <th>amount1</th>\n      <th>sqrt_price_x96</th>\n      <th>liquidity</th>\n      <th>tick</th>\n    </tr>\n  </thead>\n  <tbody>\n    <tr>\n      <th>19</th>\n      <td>12371376</td>\n      <td>2021-05-05T01:56:23</td>\n      <td>0xce7c3c307d820785caa12938012372fc9366a614a6aa...</td>\n      <td>26</td>\n      <td>0x8ad599c3a0ff1de082011efddc58f1908eb6e6d8</td>\n      <td>1157920892373161954235709850086879078532699846...</td>\n      <td>100000000000000</td>\n      <td>1377932816571815120446551350158799</td>\n      <td>4303369674465501</td>\n      <td>195285</td>\n    </tr>\n    <tr>\n      <th>21</th>\n      <td>12373132</td>\n      <td>2021-05-05T08:23:26</td>\n      <td>0x9a1c51b0bffbf840948f3b6e3f3e495ba1cd3fa64854...</td>\n      <td>192</td>\n      <td>0x8ad599c3a0ff1de082011efddc58f1908eb6e6d8</td>\n      <td>1157920892373161954235709850086879078532699846...</td>\n      <td>50000000000000000</td>\n      <td>1378850591292581266780357299649652</td>\n      <td>4303369674465501</td>\n      <td>195298</td>\n    </tr>\n    <tr>\n      <th>25</th>\n      <td>12373520</td>\n      <td>2021-05-05T09:50:51</td>\n      <td>0xc58715c62a5bf70a6ca09f0e51546d6cad76c8d4fff0...</td>\n      <td>8</td>\n      <td>0x8ad599c3a0ff1de082011efddc58f1908eb6e6d8</td>\n      <td>1157920892373161954235709850086879078532699846...</td>\n      <td>100000000000000</td>\n      <td>1378852426842022799073024911548633</td>\n      <td>4303369674465501</td>\n      <td>195298</td>\n    </tr>\n    <tr>\n      <th>26</th>\n      <td>12374077</td>\n      <td>2021-05-05T11:59:57</td>\n      <td>0x288c21b8b4fbf449b1d086a06e43b124ac2bc088c3f5...</td>\n      <td>86</td>\n      <td>0x8ad599c3a0ff1de082011efddc58f1908eb6e6d8</td>\n      <td>2</td>\n      <td>1157920892373161954235709850086879078532699846...</td>\n      <td>1378852426842016741051966412054516</td>\n      <td>4304946248093346</td>\n      <td>195298</td>\n    </tr>\n    <tr>\n      <th>45</th>\n      <td>12375770</td>\n      <td>2021-05-05T18:09:23</td>\n      <td>0xf76f19b991131f0f396f116f79215637dacad3cf5e1b...</td>\n      <td>249</td>\n      <td>0x8ad599c3a0ff1de082011efddc58f1908eb6e6d8</td>\n      <td>1157920892373161954235709850086879078532699846...</td>\n      <td>300000000000000</td>\n      <td>1370242002332554394456531434422627</td>\n      <td>52976694435070763</td>\n      <td>195173</td>\n    </tr>\n    <tr>\n      <th>...</th>\n      <td>...</td>\n      <td>...</td>\n      <td>...</td>\n      <td>...</td>\n      <td>...</td>\n      <td>...</td>\n      <td>...</td>\n      <td>...</td>\n      <td>...</td>\n      <td>...</td>\n    </tr>\n    <tr>\n      <th>1229173</th>\n      <td>12619596</td>\n      <td>2021-06-12T12:16:13</td>\n      <td>0x8c1f6c5639b304eb0087c2b6d5b65e32ee4f1a51e8b0...</td>\n      <td>112</td>\n      <td>0x8ad599c3a0ff1de082011efddc58f1908eb6e6d8</td>\n      <td>92432639474</td>\n      <td>1157920892373161954235709850086879078532699846...</td>\n      <td>1615736234513681125600943820478722</td>\n      <td>25998097729965548918</td>\n      <td>198469</td>\n    </tr>\n    <tr>\n      <th>1229192</th>\n      <td>12619598</td>\n      <td>2021-06-12T12:16:25</td>\n      <td>0xac8e34aa704a1ab4068bd93d4b5aef0fb7655d292fc9...</td>\n      <td>3</td>\n      <td>0x8ad599c3a0ff1de082011efddc58f1908eb6e6d8</td>\n      <td>76760509615</td>\n      <td>1157920892373161954235709850086879078532699846...</td>\n      <td>1615639241428978886102798535892145</td>\n      <td>25997255949450154096</td>\n      <td>198468</td>\n    </tr>\n    <tr>\n      <th>1229194</th>\n      <td>12619598</td>\n      <td>2021-06-12T12:16:25</td>\n      <td>0x0752c6529f939f046c7f9648e8d27d76b1cf767d6902...</td>\n      <td>8</td>\n      <td>0x8ad599c3a0ff1de082011efddc58f1908eb6e6d8</td>\n      <td>482579746068</td>\n      <td>1157920892373161954235709850086879078532699846...</td>\n      <td>1615029729696907486273078115160620</td>\n      <td>25997255949450154096</td>\n      <td>198460</td>\n    </tr>\n    <tr>\n      <th>1229198</th>\n      <td>12619598</td>\n      <td>2021-06-12T12:16:25</td>\n      <td>0xbd9193ff70e4828a43679f955c9707fa63fe1dabeed3...</td>\n      <td>45</td>\n      <td>0x8ad599c3a0ff1de082011efddc58f1908eb6e6d8</td>\n      <td>679981136491</td>\n      <td>1157920892373161954235709850086879078532699846...</td>\n      <td>1614171674604720940565192048438458</td>\n      <td>25997255949450154096</td>\n      <td>198449</td>\n    </tr>\n    <tr>\n      <th>1229358</th>\n      <td>12619619</td>\n      <td>2021-06-12T12:21:51</td>\n      <td>0x91f7b948333f452324270b09d6cb074b69dda7647f4c...</td>\n      <td>281</td>\n      <td>0x8ad599c3a0ff1de082011efddc58f1908eb6e6d8</td>\n      <td>8388626</td>\n      <td>1157920892373161954235709850086879078532699846...</td>\n      <td>1614171664025625771996673894396803</td>\n      <td>25999040327671324243</td>\n      <td>198449</td>\n    </tr>\n  </tbody>\n</table>\n<p>64094 rows × 10 columns</p>\n</div>"
     },
     "execution_count": 306,
     "metadata": {},
     "output_type": "execute_result"
    }
   ],
   "source": [
    "df = swap_df.loc[swap_df.pool_contract_address == pool_address.lower()]\n",
    "df"
   ]
  },
  {
   "cell_type": "markdown",
   "metadata": {},
   "source": [
    "In Uniswap V3, we can get pool's price from pool's tick."
   ]
  },
  {
   "cell_type": "code",
   "execution_count": 307,
   "metadata": {},
   "outputs": [
    {
     "data": {
      "text/plain": "         block_number            timestamp  \\\n19           12371376  2021-05-05T01:56:23   \n21           12373132  2021-05-05T08:23:26   \n25           12373520  2021-05-05T09:50:51   \n26           12374077  2021-05-05T11:59:57   \n45           12375770  2021-05-05T18:09:23   \n...               ...                  ...   \n1229173      12619596  2021-06-12T12:16:13   \n1229192      12619598  2021-06-12T12:16:25   \n1229194      12619598  2021-06-12T12:16:25   \n1229198      12619598  2021-06-12T12:16:25   \n1229358      12619619  2021-06-12T12:21:51   \n\n                                                   tx_hash  log_index  \\\n19       0xce7c3c307d820785caa12938012372fc9366a614a6aa...         26   \n21       0x9a1c51b0bffbf840948f3b6e3f3e495ba1cd3fa64854...        192   \n25       0xc58715c62a5bf70a6ca09f0e51546d6cad76c8d4fff0...          8   \n26       0x288c21b8b4fbf449b1d086a06e43b124ac2bc088c3f5...         86   \n45       0xf76f19b991131f0f396f116f79215637dacad3cf5e1b...        249   \n...                                                    ...        ...   \n1229173  0x8c1f6c5639b304eb0087c2b6d5b65e32ee4f1a51e8b0...        112   \n1229192  0xac8e34aa704a1ab4068bd93d4b5aef0fb7655d292fc9...          3   \n1229194  0x0752c6529f939f046c7f9648e8d27d76b1cf767d6902...          8   \n1229198  0xbd9193ff70e4828a43679f955c9707fa63fe1dabeed3...         45   \n1229358  0x91f7b948333f452324270b09d6cb074b69dda7647f4c...        281   \n\n                              pool_contract_address  \\\n19       0x8ad599c3a0ff1de082011efddc58f1908eb6e6d8   \n21       0x8ad599c3a0ff1de082011efddc58f1908eb6e6d8   \n25       0x8ad599c3a0ff1de082011efddc58f1908eb6e6d8   \n26       0x8ad599c3a0ff1de082011efddc58f1908eb6e6d8   \n45       0x8ad599c3a0ff1de082011efddc58f1908eb6e6d8   \n...                                             ...   \n1229173  0x8ad599c3a0ff1de082011efddc58f1908eb6e6d8   \n1229192  0x8ad599c3a0ff1de082011efddc58f1908eb6e6d8   \n1229194  0x8ad599c3a0ff1de082011efddc58f1908eb6e6d8   \n1229198  0x8ad599c3a0ff1de082011efddc58f1908eb6e6d8   \n1229358  0x8ad599c3a0ff1de082011efddc58f1908eb6e6d8   \n\n                                                   amount0  \\\n19       1157920892373161954235709850086879078532699846...   \n21       1157920892373161954235709850086879078532699846...   \n25       1157920892373161954235709850086879078532699846...   \n26                                                       2   \n45       1157920892373161954235709850086879078532699846...   \n...                                                    ...   \n1229173                                        92432639474   \n1229192                                        76760509615   \n1229194                                       482579746068   \n1229198                                       679981136491   \n1229358                                            8388626   \n\n                                                   amount1  \\\n19                                         100000000000000   \n21                                       50000000000000000   \n25                                         100000000000000   \n26       1157920892373161954235709850086879078532699846...   \n45                                         300000000000000   \n...                                                    ...   \n1229173  1157920892373161954235709850086879078532699846...   \n1229192  1157920892373161954235709850086879078532699846...   \n1229194  1157920892373161954235709850086879078532699846...   \n1229198  1157920892373161954235709850086879078532699846...   \n1229358  1157920892373161954235709850086879078532699846...   \n\n                             sqrt_price_x96             liquidity    tick  \\\n19       1377932816571815120446551350158799      4303369674465501  195285   \n21       1378850591292581266780357299649652      4303369674465501  195298   \n25       1378852426842022799073024911548633      4303369674465501  195298   \n26       1378852426842016741051966412054516      4304946248093346  195298   \n45       1370242002332554394456531434422627     52976694435070763  195173   \n...                                     ...                   ...     ...   \n1229173  1615736234513681125600943820478722  25998097729965548918  198469   \n1229192  1615639241428978886102798535892145  25997255949450154096  198468   \n1229194  1615029729696907486273078115160620  25997255949450154096  198460   \n1229198  1614171674604720940565192048438458  25997255949450154096  198449   \n1229358  1614171664025625771996673894396803  25999040327671324243  198449   \n\n            price  \n19       0.000302  \n21       0.000303  \n25       0.000303  \n26       0.000303  \n45       0.000299  \n...           ...  \n1229173  0.000416  \n1229192  0.000416  \n1229194  0.000416  \n1229198  0.000415  \n1229358  0.000415  \n\n[64094 rows x 11 columns]",
      "text/html": "<div>\n<style scoped>\n    .dataframe tbody tr th:only-of-type {\n        vertical-align: middle;\n    }\n\n    .dataframe tbody tr th {\n        vertical-align: top;\n    }\n\n    .dataframe thead th {\n        text-align: right;\n    }\n</style>\n<table border=\"1\" class=\"dataframe\">\n  <thead>\n    <tr style=\"text-align: right;\">\n      <th></th>\n      <th>block_number</th>\n      <th>timestamp</th>\n      <th>tx_hash</th>\n      <th>log_index</th>\n      <th>pool_contract_address</th>\n      <th>amount0</th>\n      <th>amount1</th>\n      <th>sqrt_price_x96</th>\n      <th>liquidity</th>\n      <th>tick</th>\n      <th>price</th>\n    </tr>\n  </thead>\n  <tbody>\n    <tr>\n      <th>19</th>\n      <td>12371376</td>\n      <td>2021-05-05T01:56:23</td>\n      <td>0xce7c3c307d820785caa12938012372fc9366a614a6aa...</td>\n      <td>26</td>\n      <td>0x8ad599c3a0ff1de082011efddc58f1908eb6e6d8</td>\n      <td>1157920892373161954235709850086879078532699846...</td>\n      <td>100000000000000</td>\n      <td>1377932816571815120446551350158799</td>\n      <td>4303369674465501</td>\n      <td>195285</td>\n      <td>0.000302</td>\n    </tr>\n    <tr>\n      <th>21</th>\n      <td>12373132</td>\n      <td>2021-05-05T08:23:26</td>\n      <td>0x9a1c51b0bffbf840948f3b6e3f3e495ba1cd3fa64854...</td>\n      <td>192</td>\n      <td>0x8ad599c3a0ff1de082011efddc58f1908eb6e6d8</td>\n      <td>1157920892373161954235709850086879078532699846...</td>\n      <td>50000000000000000</td>\n      <td>1378850591292581266780357299649652</td>\n      <td>4303369674465501</td>\n      <td>195298</td>\n      <td>0.000303</td>\n    </tr>\n    <tr>\n      <th>25</th>\n      <td>12373520</td>\n      <td>2021-05-05T09:50:51</td>\n      <td>0xc58715c62a5bf70a6ca09f0e51546d6cad76c8d4fff0...</td>\n      <td>8</td>\n      <td>0x8ad599c3a0ff1de082011efddc58f1908eb6e6d8</td>\n      <td>1157920892373161954235709850086879078532699846...</td>\n      <td>100000000000000</td>\n      <td>1378852426842022799073024911548633</td>\n      <td>4303369674465501</td>\n      <td>195298</td>\n      <td>0.000303</td>\n    </tr>\n    <tr>\n      <th>26</th>\n      <td>12374077</td>\n      <td>2021-05-05T11:59:57</td>\n      <td>0x288c21b8b4fbf449b1d086a06e43b124ac2bc088c3f5...</td>\n      <td>86</td>\n      <td>0x8ad599c3a0ff1de082011efddc58f1908eb6e6d8</td>\n      <td>2</td>\n      <td>1157920892373161954235709850086879078532699846...</td>\n      <td>1378852426842016741051966412054516</td>\n      <td>4304946248093346</td>\n      <td>195298</td>\n      <td>0.000303</td>\n    </tr>\n    <tr>\n      <th>45</th>\n      <td>12375770</td>\n      <td>2021-05-05T18:09:23</td>\n      <td>0xf76f19b991131f0f396f116f79215637dacad3cf5e1b...</td>\n      <td>249</td>\n      <td>0x8ad599c3a0ff1de082011efddc58f1908eb6e6d8</td>\n      <td>1157920892373161954235709850086879078532699846...</td>\n      <td>300000000000000</td>\n      <td>1370242002332554394456531434422627</td>\n      <td>52976694435070763</td>\n      <td>195173</td>\n      <td>0.000299</td>\n    </tr>\n    <tr>\n      <th>...</th>\n      <td>...</td>\n      <td>...</td>\n      <td>...</td>\n      <td>...</td>\n      <td>...</td>\n      <td>...</td>\n      <td>...</td>\n      <td>...</td>\n      <td>...</td>\n      <td>...</td>\n      <td>...</td>\n    </tr>\n    <tr>\n      <th>1229173</th>\n      <td>12619596</td>\n      <td>2021-06-12T12:16:13</td>\n      <td>0x8c1f6c5639b304eb0087c2b6d5b65e32ee4f1a51e8b0...</td>\n      <td>112</td>\n      <td>0x8ad599c3a0ff1de082011efddc58f1908eb6e6d8</td>\n      <td>92432639474</td>\n      <td>1157920892373161954235709850086879078532699846...</td>\n      <td>1615736234513681125600943820478722</td>\n      <td>25998097729965548918</td>\n      <td>198469</td>\n      <td>0.000416</td>\n    </tr>\n    <tr>\n      <th>1229192</th>\n      <td>12619598</td>\n      <td>2021-06-12T12:16:25</td>\n      <td>0xac8e34aa704a1ab4068bd93d4b5aef0fb7655d292fc9...</td>\n      <td>3</td>\n      <td>0x8ad599c3a0ff1de082011efddc58f1908eb6e6d8</td>\n      <td>76760509615</td>\n      <td>1157920892373161954235709850086879078532699846...</td>\n      <td>1615639241428978886102798535892145</td>\n      <td>25997255949450154096</td>\n      <td>198468</td>\n      <td>0.000416</td>\n    </tr>\n    <tr>\n      <th>1229194</th>\n      <td>12619598</td>\n      <td>2021-06-12T12:16:25</td>\n      <td>0x0752c6529f939f046c7f9648e8d27d76b1cf767d6902...</td>\n      <td>8</td>\n      <td>0x8ad599c3a0ff1de082011efddc58f1908eb6e6d8</td>\n      <td>482579746068</td>\n      <td>1157920892373161954235709850086879078532699846...</td>\n      <td>1615029729696907486273078115160620</td>\n      <td>25997255949450154096</td>\n      <td>198460</td>\n      <td>0.000416</td>\n    </tr>\n    <tr>\n      <th>1229198</th>\n      <td>12619598</td>\n      <td>2021-06-12T12:16:25</td>\n      <td>0xbd9193ff70e4828a43679f955c9707fa63fe1dabeed3...</td>\n      <td>45</td>\n      <td>0x8ad599c3a0ff1de082011efddc58f1908eb6e6d8</td>\n      <td>679981136491</td>\n      <td>1157920892373161954235709850086879078532699846...</td>\n      <td>1614171674604720940565192048438458</td>\n      <td>25997255949450154096</td>\n      <td>198449</td>\n      <td>0.000415</td>\n    </tr>\n    <tr>\n      <th>1229358</th>\n      <td>12619619</td>\n      <td>2021-06-12T12:21:51</td>\n      <td>0x91f7b948333f452324270b09d6cb074b69dda7647f4c...</td>\n      <td>281</td>\n      <td>0x8ad599c3a0ff1de082011efddc58f1908eb6e6d8</td>\n      <td>8388626</td>\n      <td>1157920892373161954235709850086879078532699846...</td>\n      <td>1614171664025625771996673894396803</td>\n      <td>25999040327671324243</td>\n      <td>198449</td>\n      <td>0.000415</td>\n    </tr>\n  </tbody>\n</table>\n<p>64094 rows × 11 columns</p>\n</div>"
     },
     "execution_count": 307,
     "metadata": {},
     "output_type": "execute_result"
    }
   ],
   "source": [
    "def convert_price(row):\n",
    "    # USDC/WETH pool has reverse token order, so let's flip it WETH/USDC\n",
    "    tick = row[\"tick\"]\n",
    "    return pool_details.convert_price_to_human(tick, reverse_token_order=True)\n",
    "\n",
    "df = df.copy(deep=True)  # https://stackoverflow.com/a/60885847/315168\n",
    "df[\"price\"] = df.apply(convert_price, axis=1)\n",
    "df"
   ]
  },
  {
   "cell_type": "markdown",
   "metadata": {},
   "source": [
    "Then we can convert linear price data to [OHLC candles](https://tradingstrategy.ai/docs/glossary.html#term-OHLCV)."
   ]
  },
  {
   "cell_type": "code",
   "execution_count": 307,
   "outputs": [],
   "source": [],
   "metadata": {
    "collapsed": false,
    "pycharm": {
     "name": "#%%\n"
    }
   }
  },
  {
   "cell_type": "code",
   "execution_count": 307,
   "outputs": [],
   "source": [],
   "metadata": {
    "collapsed": false,
    "pycharm": {
     "name": "#%%\n"
    }
   }
  },
  {
   "cell_type": "code",
   "execution_count": 308,
   "outputs": [
    {
     "data": {
      "text/plain": "                open      high       low     close\ntimestamp                                         \n2021-05-05  0.000302  0.000303  0.000282  0.000284\n2021-05-06  0.000284  0.000297  0.000278  0.000287\n2021-05-07  0.000287  0.000296  0.000280  0.000288\n2021-05-08  0.000287  0.000288  0.000253  0.000257\n2021-05-09  0.000257  0.000266  0.000251  0.000256\n2021-05-10  0.000256  0.000272  0.000239  0.000254\n2021-05-11  0.000253  0.000269  0.000240  0.000240\n2021-05-12  0.000240  0.000270  0.000229  0.000265\n2021-05-13  0.000265  0.000289  0.000247  0.000269\n2021-05-14  0.000270  0.000270  0.000240  0.000245\n2021-05-15  0.000245  0.000279  0.000243  0.000275\n2021-05-16  0.000274  0.000300  0.000257  0.000279\n2021-05-17  0.000279  0.000324  0.000279  0.000305\n2021-05-18  0.000305  0.000307  0.000281  0.000295\n2021-05-19  0.000295  0.000513  0.000292  0.000408\n2021-05-20  0.000406  0.000469  0.000334  0.000360\n2021-05-21  0.000360  0.000482  0.000342  0.000411\n2021-05-22  0.000411  0.000461  0.000404  0.000437\n2021-05-23  0.000437  0.000585  0.000422  0.000475\n2021-05-24  0.000474  0.000477  0.000373  0.000379\n2021-05-25  0.000379  0.000420  0.000364  0.000370\n2021-05-26  0.000370  0.000376  0.000345  0.000348\n2021-05-27  0.000348  0.000377  0.000348  0.000363\n2021-05-28  0.000364  0.000429  0.000363  0.000414\n2021-05-29  0.000414  0.000451  0.000391  0.000438\n2021-05-30  0.000438  0.000455  0.000405  0.000418\n2021-05-31  0.000418  0.000437  0.000369  0.000369\n2021-06-01  0.000369  0.000394  0.000366  0.000379\n2021-06-02  0.000379  0.000390  0.000358  0.000368\n2021-06-03  0.000368  0.000374  0.000347  0.000350\n2021-06-04  0.000350  0.000394  0.000350  0.000371\n2021-06-05  0.000371  0.000391  0.000356  0.000382\n2021-06-06  0.000382  0.000382  0.000366  0.000369\n2021-06-07  0.000369  0.000387  0.000353  0.000387\n2021-06-08  0.000386  0.000432  0.000383  0.000398\n2021-06-09  0.000398  0.000413  0.000382  0.000384\n2021-06-10  0.000384  0.000410  0.000383  0.000404\n2021-06-11  0.000404  0.000429  0.000402  0.000425\n2021-06-12  0.000425  0.000441  0.000415  0.000415",
      "text/html": "<div>\n<style scoped>\n    .dataframe tbody tr th:only-of-type {\n        vertical-align: middle;\n    }\n\n    .dataframe tbody tr th {\n        vertical-align: top;\n    }\n\n    .dataframe thead th {\n        text-align: right;\n    }\n</style>\n<table border=\"1\" class=\"dataframe\">\n  <thead>\n    <tr style=\"text-align: right;\">\n      <th></th>\n      <th>open</th>\n      <th>high</th>\n      <th>low</th>\n      <th>close</th>\n    </tr>\n    <tr>\n      <th>timestamp</th>\n      <th></th>\n      <th></th>\n      <th></th>\n      <th></th>\n    </tr>\n  </thead>\n  <tbody>\n    <tr>\n      <th>2021-05-05</th>\n      <td>0.000302</td>\n      <td>0.000303</td>\n      <td>0.000282</td>\n      <td>0.000284</td>\n    </tr>\n    <tr>\n      <th>2021-05-06</th>\n      <td>0.000284</td>\n      <td>0.000297</td>\n      <td>0.000278</td>\n      <td>0.000287</td>\n    </tr>\n    <tr>\n      <th>2021-05-07</th>\n      <td>0.000287</td>\n      <td>0.000296</td>\n      <td>0.000280</td>\n      <td>0.000288</td>\n    </tr>\n    <tr>\n      <th>2021-05-08</th>\n      <td>0.000287</td>\n      <td>0.000288</td>\n      <td>0.000253</td>\n      <td>0.000257</td>\n    </tr>\n    <tr>\n      <th>2021-05-09</th>\n      <td>0.000257</td>\n      <td>0.000266</td>\n      <td>0.000251</td>\n      <td>0.000256</td>\n    </tr>\n    <tr>\n      <th>2021-05-10</th>\n      <td>0.000256</td>\n      <td>0.000272</td>\n      <td>0.000239</td>\n      <td>0.000254</td>\n    </tr>\n    <tr>\n      <th>2021-05-11</th>\n      <td>0.000253</td>\n      <td>0.000269</td>\n      <td>0.000240</td>\n      <td>0.000240</td>\n    </tr>\n    <tr>\n      <th>2021-05-12</th>\n      <td>0.000240</td>\n      <td>0.000270</td>\n      <td>0.000229</td>\n      <td>0.000265</td>\n    </tr>\n    <tr>\n      <th>2021-05-13</th>\n      <td>0.000265</td>\n      <td>0.000289</td>\n      <td>0.000247</td>\n      <td>0.000269</td>\n    </tr>\n    <tr>\n      <th>2021-05-14</th>\n      <td>0.000270</td>\n      <td>0.000270</td>\n      <td>0.000240</td>\n      <td>0.000245</td>\n    </tr>\n    <tr>\n      <th>2021-05-15</th>\n      <td>0.000245</td>\n      <td>0.000279</td>\n      <td>0.000243</td>\n      <td>0.000275</td>\n    </tr>\n    <tr>\n      <th>2021-05-16</th>\n      <td>0.000274</td>\n      <td>0.000300</td>\n      <td>0.000257</td>\n      <td>0.000279</td>\n    </tr>\n    <tr>\n      <th>2021-05-17</th>\n      <td>0.000279</td>\n      <td>0.000324</td>\n      <td>0.000279</td>\n      <td>0.000305</td>\n    </tr>\n    <tr>\n      <th>2021-05-18</th>\n      <td>0.000305</td>\n      <td>0.000307</td>\n      <td>0.000281</td>\n      <td>0.000295</td>\n    </tr>\n    <tr>\n      <th>2021-05-19</th>\n      <td>0.000295</td>\n      <td>0.000513</td>\n      <td>0.000292</td>\n      <td>0.000408</td>\n    </tr>\n    <tr>\n      <th>2021-05-20</th>\n      <td>0.000406</td>\n      <td>0.000469</td>\n      <td>0.000334</td>\n      <td>0.000360</td>\n    </tr>\n    <tr>\n      <th>2021-05-21</th>\n      <td>0.000360</td>\n      <td>0.000482</td>\n      <td>0.000342</td>\n      <td>0.000411</td>\n    </tr>\n    <tr>\n      <th>2021-05-22</th>\n      <td>0.000411</td>\n      <td>0.000461</td>\n      <td>0.000404</td>\n      <td>0.000437</td>\n    </tr>\n    <tr>\n      <th>2021-05-23</th>\n      <td>0.000437</td>\n      <td>0.000585</td>\n      <td>0.000422</td>\n      <td>0.000475</td>\n    </tr>\n    <tr>\n      <th>2021-05-24</th>\n      <td>0.000474</td>\n      <td>0.000477</td>\n      <td>0.000373</td>\n      <td>0.000379</td>\n    </tr>\n    <tr>\n      <th>2021-05-25</th>\n      <td>0.000379</td>\n      <td>0.000420</td>\n      <td>0.000364</td>\n      <td>0.000370</td>\n    </tr>\n    <tr>\n      <th>2021-05-26</th>\n      <td>0.000370</td>\n      <td>0.000376</td>\n      <td>0.000345</td>\n      <td>0.000348</td>\n    </tr>\n    <tr>\n      <th>2021-05-27</th>\n      <td>0.000348</td>\n      <td>0.000377</td>\n      <td>0.000348</td>\n      <td>0.000363</td>\n    </tr>\n    <tr>\n      <th>2021-05-28</th>\n      <td>0.000364</td>\n      <td>0.000429</td>\n      <td>0.000363</td>\n      <td>0.000414</td>\n    </tr>\n    <tr>\n      <th>2021-05-29</th>\n      <td>0.000414</td>\n      <td>0.000451</td>\n      <td>0.000391</td>\n      <td>0.000438</td>\n    </tr>\n    <tr>\n      <th>2021-05-30</th>\n      <td>0.000438</td>\n      <td>0.000455</td>\n      <td>0.000405</td>\n      <td>0.000418</td>\n    </tr>\n    <tr>\n      <th>2021-05-31</th>\n      <td>0.000418</td>\n      <td>0.000437</td>\n      <td>0.000369</td>\n      <td>0.000369</td>\n    </tr>\n    <tr>\n      <th>2021-06-01</th>\n      <td>0.000369</td>\n      <td>0.000394</td>\n      <td>0.000366</td>\n      <td>0.000379</td>\n    </tr>\n    <tr>\n      <th>2021-06-02</th>\n      <td>0.000379</td>\n      <td>0.000390</td>\n      <td>0.000358</td>\n      <td>0.000368</td>\n    </tr>\n    <tr>\n      <th>2021-06-03</th>\n      <td>0.000368</td>\n      <td>0.000374</td>\n      <td>0.000347</td>\n      <td>0.000350</td>\n    </tr>\n    <tr>\n      <th>2021-06-04</th>\n      <td>0.000350</td>\n      <td>0.000394</td>\n      <td>0.000350</td>\n      <td>0.000371</td>\n    </tr>\n    <tr>\n      <th>2021-06-05</th>\n      <td>0.000371</td>\n      <td>0.000391</td>\n      <td>0.000356</td>\n      <td>0.000382</td>\n    </tr>\n    <tr>\n      <th>2021-06-06</th>\n      <td>0.000382</td>\n      <td>0.000382</td>\n      <td>0.000366</td>\n      <td>0.000369</td>\n    </tr>\n    <tr>\n      <th>2021-06-07</th>\n      <td>0.000369</td>\n      <td>0.000387</td>\n      <td>0.000353</td>\n      <td>0.000387</td>\n    </tr>\n    <tr>\n      <th>2021-06-08</th>\n      <td>0.000386</td>\n      <td>0.000432</td>\n      <td>0.000383</td>\n      <td>0.000398</td>\n    </tr>\n    <tr>\n      <th>2021-06-09</th>\n      <td>0.000398</td>\n      <td>0.000413</td>\n      <td>0.000382</td>\n      <td>0.000384</td>\n    </tr>\n    <tr>\n      <th>2021-06-10</th>\n      <td>0.000384</td>\n      <td>0.000410</td>\n      <td>0.000383</td>\n      <td>0.000404</td>\n    </tr>\n    <tr>\n      <th>2021-06-11</th>\n      <td>0.000404</td>\n      <td>0.000429</td>\n      <td>0.000402</td>\n      <td>0.000425</td>\n    </tr>\n    <tr>\n      <th>2021-06-12</th>\n      <td>0.000425</td>\n      <td>0.000441</td>\n      <td>0.000415</td>\n      <td>0.000415</td>\n    </tr>\n  </tbody>\n</table>\n</div>"
     },
     "execution_count": 308,
     "metadata": {},
     "output_type": "execute_result"
    }
   ],
   "source": [
    "from eth_defi.research.candle import convert_to_ohlc_candles\n",
    "\n",
    "candles = convert_to_ohlc_candles(df, time_bucket=pd.Timedelta(\"1D\"))\n",
    "candles"
   ],
   "metadata": {
    "collapsed": false,
    "pycharm": {
     "name": "#%%\n"
    }
   }
  },
  {
   "cell_type": "code",
   "execution_count": 309,
   "outputs": [
    {
     "data": {
      "text/plain": "DatetimeIndex(['2021-05-05', '2021-05-06', '2021-05-07', '2021-05-08',\n               '2021-05-09', '2021-05-10', '2021-05-11', '2021-05-12',\n               '2021-05-13', '2021-05-14', '2021-05-15', '2021-05-16',\n               '2021-05-17', '2021-05-18', '2021-05-19', '2021-05-20',\n               '2021-05-21', '2021-05-22', '2021-05-23', '2021-05-24',\n               '2021-05-25', '2021-05-26', '2021-05-27', '2021-05-28',\n               '2021-05-29', '2021-05-30', '2021-05-31', '2021-06-01',\n               '2021-06-02', '2021-06-03', '2021-06-04', '2021-06-05',\n               '2021-06-06', '2021-06-07', '2021-06-08', '2021-06-09',\n               '2021-06-10', '2021-06-11', '2021-06-12'],\n              dtype='datetime64[ns]', name='timestamp', freq='D')"
     },
     "execution_count": 309,
     "metadata": {},
     "output_type": "execute_result"
    }
   ],
   "source": [
    "candles.index"
   ],
   "metadata": {
    "collapsed": false,
    "pycharm": {
     "name": "#%%\n"
    }
   }
  },
  {
   "cell_type": "markdown",
   "source": [
    "Now we can plot the [OHLC chart using Plotly](https://plotly.com/python/ohlc-charts/)."
   ],
   "metadata": {
    "collapsed": false,
    "pycharm": {
     "name": "#%% md\n"
    }
   }
  },
  {
   "cell_type": "code",
   "execution_count": 310,
   "metadata": {},
   "outputs": [
    {
     "data": {
      "application/vnd.plotly.v1+json": {
       "data": [
        {
         "close": [
          2.839835281233176E-4,
          2.868661503675616E-4,
          2.876992279290885E-4,
          2.5667772035652597E-4,
          2.556531112889115E-4,
          2.537937315368115E-4,
          2.39660831404368E-4,
          2.654481717615549E-4,
          2.6905583866304643E-4,
          2.446487947790997E-4,
          2.74710522228321E-4,
          2.7944822721506817E-4,
          3.049087898315063E-4,
          2.9507050330545914E-4,
          4.0805342649443104E-4,
          3.60252200351276E-4,
          4.1124852816684936E-4,
          4.3711428093790695E-4,
          4.748934811266928E-4,
          3.785703280456917E-4,
          3.7048128950498106E-4,
          3.478968708038936E-4,
          3.6343624978538E-4,
          4.141786357876802E-4,
          4.3772663886436895E-4,
          4.180482695299938E-4,
          3.6918693614793063E-4,
          3.787596510705332E-4,
          3.683019941027457E-4,
          3.4981547900079797E-4,
          3.7122295642096927E-4,
          3.8195447186389507E-4,
          3.6940850369504406E-4,
          3.868746651617969E-4,
          3.978596790975647E-4,
          3.8421455092326617E-4,
          4.0435716860250413E-4,
          4.2547067352847226E-4,
          4.1504928124907494E-4
         ],
         "high": [
          3.02872830814394E-4,
          2.9657913117345794E-4,
          2.955134190187431E-4,
          2.879582608301171E-4,
          2.6637882151809124E-4,
          2.7230379509705644E-4,
          2.6873318142230535E-4,
          2.7043145951198864E-4,
          2.891701681552156E-4,
          2.701881928479769E-4,
          2.791689326229194E-4,
          3.002193749025813E-4,
          3.240214257140546E-4,
          3.0677432426992954E-4,
          5.128516817046206E-4,
          4.6932294735408216E-4,
          4.8178107454232503E-4,
          4.6067465140964015E-4,
          5.846890277039274E-4,
          4.773692348241258E-4,
          4.1980767646149713E-4,
          3.761929504481134E-4,
          3.773231672671669E-4,
          4.2854496282719487E-4,
          4.511469389647206E-4,
          4.551798649800277E-4,
          4.372017081652373E-4,
          3.94098096030508E-4,
          3.90059919853146E-4,
          3.736810076797131E-4,
          3.940192882326686E-4,
          3.906063588374883E-4,
          3.8183990843578523E-4,
          3.868746651617969E-4,
          4.3211650885775977E-4,
          4.1289673408493287E-4,
          4.0968882705243496E-4,
          4.289737006866897E-4,
          4.407131733942814E-4
         ],
         "low": [
          2.824824717886623E-4,
          2.7844407236715863E-4,
          2.798676931037164E-4,
          2.5278063480884023E-4,
          2.514947995288791E-4,
          2.388235264972937E-4,
          2.39660831404368E-4,
          2.2870365011841973E-4,
          2.471321432413087E-4,
          2.4023667934896137E-4,
          2.432583327520644E-4,
          2.57268728962782E-4,
          2.7925269167805344E-4,
          2.8143926991579325E-4,
          2.919886252849793E-4,
          3.337553242685084E-4,
          3.4193031279146986E-4,
          4.0367037969072164E-4,
          4.216166455196312E-4,
          3.733821973539027E-4,
          3.639090004943445E-4,
          3.445732061394588E-4,
          3.4768820572027634E-4,
          3.631819461421592E-4,
          3.908798653296825E-4,
          4.054098124536019E-4,
          3.69150021145816E-4,
          3.663918898120747E-4,
          3.5806146001512686E-4,
          3.465081320854523E-4,
          3.499904217253446E-4,
          3.563113376669916E-4,
          3.658793256727299E-4,
          3.527661569914255E-4,
          3.8310199833322165E-4,
          3.821837018478238E-4,
          3.827956546053149E-4,
          4.0230029935899004E-4,
          4.1504928124907494E-4
         ],
         "open": [
          3.0247937161085936E-4,
          2.842676394781125E-4,
          2.868374666208995E-4,
          2.874404280411488E-4,
          2.567033881285616E-4,
          2.556531112889115E-4,
          2.5343868665401396E-4,
          2.39660831404368E-4,
          2.6486485683062264E-4,
          2.6954055104770494E-4,
          2.4508953712206637E-4,
          2.744908526733701E-4,
          2.7928061694722125E-4,
          3.046040486744511E-4,
          2.9542478272088796E-4,
          4.060995607678931E-4,
          3.60252200351276E-4,
          4.1149533897925423E-4,
          4.3702687119339957E-4,
          4.744188487325381E-4,
          3.7917649506702666E-4,
          3.7007400449825617E-4,
          3.4786208459543406E-4,
          3.6358164609292295E-4,
          4.143029018041897E-4,
          4.3772663886436895E-4,
          4.1817369655271886E-4,
          3.693346330750827E-4,
          3.787596510705332E-4,
          3.683019941027457E-4,
          3.499904217253446E-4,
          3.714086050251877E-4,
          3.8183990843578523E-4,
          3.693715665383902E-4,
          3.864880031926162E-4,
          3.9762104681836366E-4,
          3.8421455092326617E-4,
          4.043976043193644E-4,
          4.2500293647659344E-4
         ],
         "x": [
          "2021-05-05T00:00:00",
          "2021-05-06T00:00:00",
          "2021-05-07T00:00:00",
          "2021-05-08T00:00:00",
          "2021-05-09T00:00:00",
          "2021-05-10T00:00:00",
          "2021-05-11T00:00:00",
          "2021-05-12T00:00:00",
          "2021-05-13T00:00:00",
          "2021-05-14T00:00:00",
          "2021-05-15T00:00:00",
          "2021-05-16T00:00:00",
          "2021-05-17T00:00:00",
          "2021-05-18T00:00:00",
          "2021-05-19T00:00:00",
          "2021-05-20T00:00:00",
          "2021-05-21T00:00:00",
          "2021-05-22T00:00:00",
          "2021-05-23T00:00:00",
          "2021-05-24T00:00:00",
          "2021-05-25T00:00:00",
          "2021-05-26T00:00:00",
          "2021-05-27T00:00:00",
          "2021-05-28T00:00:00",
          "2021-05-29T00:00:00",
          "2021-05-30T00:00:00",
          "2021-05-31T00:00:00",
          "2021-06-01T00:00:00",
          "2021-06-02T00:00:00",
          "2021-06-03T00:00:00",
          "2021-06-04T00:00:00",
          "2021-06-05T00:00:00",
          "2021-06-06T00:00:00",
          "2021-06-07T00:00:00",
          "2021-06-08T00:00:00",
          "2021-06-09T00:00:00",
          "2021-06-10T00:00:00",
          "2021-06-11T00:00:00",
          "2021-06-12T00:00:00"
         ],
         "type": "ohlc"
        }
       ],
       "layout": {
        "template": {
         "data": {
          "histogram2dcontour": [
           {
            "type": "histogram2dcontour",
            "colorbar": {
             "outlinewidth": 0,
             "ticks": ""
            },
            "colorscale": [
             [
              0.0,
              "#0d0887"
             ],
             [
              0.1111111111111111,
              "#46039f"
             ],
             [
              0.2222222222222222,
              "#7201a8"
             ],
             [
              0.3333333333333333,
              "#9c179e"
             ],
             [
              0.4444444444444444,
              "#bd3786"
             ],
             [
              0.5555555555555556,
              "#d8576b"
             ],
             [
              0.6666666666666666,
              "#ed7953"
             ],
             [
              0.7777777777777778,
              "#fb9f3a"
             ],
             [
              0.8888888888888888,
              "#fdca26"
             ],
             [
              1.0,
              "#f0f921"
             ]
            ]
           }
          ],
          "choropleth": [
           {
            "type": "choropleth",
            "colorbar": {
             "outlinewidth": 0,
             "ticks": ""
            }
           }
          ],
          "histogram2d": [
           {
            "type": "histogram2d",
            "colorbar": {
             "outlinewidth": 0,
             "ticks": ""
            },
            "colorscale": [
             [
              0.0,
              "#0d0887"
             ],
             [
              0.1111111111111111,
              "#46039f"
             ],
             [
              0.2222222222222222,
              "#7201a8"
             ],
             [
              0.3333333333333333,
              "#9c179e"
             ],
             [
              0.4444444444444444,
              "#bd3786"
             ],
             [
              0.5555555555555556,
              "#d8576b"
             ],
             [
              0.6666666666666666,
              "#ed7953"
             ],
             [
              0.7777777777777778,
              "#fb9f3a"
             ],
             [
              0.8888888888888888,
              "#fdca26"
             ],
             [
              1.0,
              "#f0f921"
             ]
            ]
           }
          ],
          "heatmap": [
           {
            "type": "heatmap",
            "colorbar": {
             "outlinewidth": 0,
             "ticks": ""
            },
            "colorscale": [
             [
              0.0,
              "#0d0887"
             ],
             [
              0.1111111111111111,
              "#46039f"
             ],
             [
              0.2222222222222222,
              "#7201a8"
             ],
             [
              0.3333333333333333,
              "#9c179e"
             ],
             [
              0.4444444444444444,
              "#bd3786"
             ],
             [
              0.5555555555555556,
              "#d8576b"
             ],
             [
              0.6666666666666666,
              "#ed7953"
             ],
             [
              0.7777777777777778,
              "#fb9f3a"
             ],
             [
              0.8888888888888888,
              "#fdca26"
             ],
             [
              1.0,
              "#f0f921"
             ]
            ]
           }
          ],
          "heatmapgl": [
           {
            "type": "heatmapgl",
            "colorbar": {
             "outlinewidth": 0,
             "ticks": ""
            },
            "colorscale": [
             [
              0.0,
              "#0d0887"
             ],
             [
              0.1111111111111111,
              "#46039f"
             ],
             [
              0.2222222222222222,
              "#7201a8"
             ],
             [
              0.3333333333333333,
              "#9c179e"
             ],
             [
              0.4444444444444444,
              "#bd3786"
             ],
             [
              0.5555555555555556,
              "#d8576b"
             ],
             [
              0.6666666666666666,
              "#ed7953"
             ],
             [
              0.7777777777777778,
              "#fb9f3a"
             ],
             [
              0.8888888888888888,
              "#fdca26"
             ],
             [
              1.0,
              "#f0f921"
             ]
            ]
           }
          ],
          "contourcarpet": [
           {
            "type": "contourcarpet",
            "colorbar": {
             "outlinewidth": 0,
             "ticks": ""
            }
           }
          ],
          "contour": [
           {
            "type": "contour",
            "colorbar": {
             "outlinewidth": 0,
             "ticks": ""
            },
            "colorscale": [
             [
              0.0,
              "#0d0887"
             ],
             [
              0.1111111111111111,
              "#46039f"
             ],
             [
              0.2222222222222222,
              "#7201a8"
             ],
             [
              0.3333333333333333,
              "#9c179e"
             ],
             [
              0.4444444444444444,
              "#bd3786"
             ],
             [
              0.5555555555555556,
              "#d8576b"
             ],
             [
              0.6666666666666666,
              "#ed7953"
             ],
             [
              0.7777777777777778,
              "#fb9f3a"
             ],
             [
              0.8888888888888888,
              "#fdca26"
             ],
             [
              1.0,
              "#f0f921"
             ]
            ]
           }
          ],
          "surface": [
           {
            "type": "surface",
            "colorbar": {
             "outlinewidth": 0,
             "ticks": ""
            },
            "colorscale": [
             [
              0.0,
              "#0d0887"
             ],
             [
              0.1111111111111111,
              "#46039f"
             ],
             [
              0.2222222222222222,
              "#7201a8"
             ],
             [
              0.3333333333333333,
              "#9c179e"
             ],
             [
              0.4444444444444444,
              "#bd3786"
             ],
             [
              0.5555555555555556,
              "#d8576b"
             ],
             [
              0.6666666666666666,
              "#ed7953"
             ],
             [
              0.7777777777777778,
              "#fb9f3a"
             ],
             [
              0.8888888888888888,
              "#fdca26"
             ],
             [
              1.0,
              "#f0f921"
             ]
            ]
           }
          ],
          "mesh3d": [
           {
            "type": "mesh3d",
            "colorbar": {
             "outlinewidth": 0,
             "ticks": ""
            }
           }
          ],
          "scatter": [
           {
            "fillpattern": {
             "fillmode": "overlay",
             "size": 10,
             "solidity": 0.2
            },
            "type": "scatter"
           }
          ],
          "parcoords": [
           {
            "type": "parcoords",
            "line": {
             "colorbar": {
              "outlinewidth": 0,
              "ticks": ""
             }
            }
           }
          ],
          "scatterpolargl": [
           {
            "type": "scatterpolargl",
            "marker": {
             "colorbar": {
              "outlinewidth": 0,
              "ticks": ""
             }
            }
           }
          ],
          "bar": [
           {
            "error_x": {
             "color": "#2a3f5f"
            },
            "error_y": {
             "color": "#2a3f5f"
            },
            "marker": {
             "line": {
              "color": "#E5ECF6",
              "width": 0.5
             },
             "pattern": {
              "fillmode": "overlay",
              "size": 10,
              "solidity": 0.2
             }
            },
            "type": "bar"
           }
          ],
          "scattergeo": [
           {
            "type": "scattergeo",
            "marker": {
             "colorbar": {
              "outlinewidth": 0,
              "ticks": ""
             }
            }
           }
          ],
          "scatterpolar": [
           {
            "type": "scatterpolar",
            "marker": {
             "colorbar": {
              "outlinewidth": 0,
              "ticks": ""
             }
            }
           }
          ],
          "histogram": [
           {
            "marker": {
             "pattern": {
              "fillmode": "overlay",
              "size": 10,
              "solidity": 0.2
             }
            },
            "type": "histogram"
           }
          ],
          "scattergl": [
           {
            "type": "scattergl",
            "marker": {
             "colorbar": {
              "outlinewidth": 0,
              "ticks": ""
             }
            }
           }
          ],
          "scatter3d": [
           {
            "type": "scatter3d",
            "line": {
             "colorbar": {
              "outlinewidth": 0,
              "ticks": ""
             }
            },
            "marker": {
             "colorbar": {
              "outlinewidth": 0,
              "ticks": ""
             }
            }
           }
          ],
          "scattermapbox": [
           {
            "type": "scattermapbox",
            "marker": {
             "colorbar": {
              "outlinewidth": 0,
              "ticks": ""
             }
            }
           }
          ],
          "scatterternary": [
           {
            "type": "scatterternary",
            "marker": {
             "colorbar": {
              "outlinewidth": 0,
              "ticks": ""
             }
            }
           }
          ],
          "scattercarpet": [
           {
            "type": "scattercarpet",
            "marker": {
             "colorbar": {
              "outlinewidth": 0,
              "ticks": ""
             }
            }
           }
          ],
          "carpet": [
           {
            "aaxis": {
             "endlinecolor": "#2a3f5f",
             "gridcolor": "white",
             "linecolor": "white",
             "minorgridcolor": "white",
             "startlinecolor": "#2a3f5f"
            },
            "baxis": {
             "endlinecolor": "#2a3f5f",
             "gridcolor": "white",
             "linecolor": "white",
             "minorgridcolor": "white",
             "startlinecolor": "#2a3f5f"
            },
            "type": "carpet"
           }
          ],
          "table": [
           {
            "cells": {
             "fill": {
              "color": "#EBF0F8"
             },
             "line": {
              "color": "white"
             }
            },
            "header": {
             "fill": {
              "color": "#C8D4E3"
             },
             "line": {
              "color": "white"
             }
            },
            "type": "table"
           }
          ],
          "barpolar": [
           {
            "marker": {
             "line": {
              "color": "#E5ECF6",
              "width": 0.5
             },
             "pattern": {
              "fillmode": "overlay",
              "size": 10,
              "solidity": 0.2
             }
            },
            "type": "barpolar"
           }
          ],
          "pie": [
           {
            "automargin": true,
            "type": "pie"
           }
          ]
         },
         "layout": {
          "autotypenumbers": "strict",
          "colorway": [
           "#636efa",
           "#EF553B",
           "#00cc96",
           "#ab63fa",
           "#FFA15A",
           "#19d3f3",
           "#FF6692",
           "#B6E880",
           "#FF97FF",
           "#FECB52"
          ],
          "font": {
           "color": "#2a3f5f"
          },
          "hovermode": "closest",
          "hoverlabel": {
           "align": "left"
          },
          "paper_bgcolor": "white",
          "plot_bgcolor": "#E5ECF6",
          "polar": {
           "bgcolor": "#E5ECF6",
           "angularaxis": {
            "gridcolor": "white",
            "linecolor": "white",
            "ticks": ""
           },
           "radialaxis": {
            "gridcolor": "white",
            "linecolor": "white",
            "ticks": ""
           }
          },
          "ternary": {
           "bgcolor": "#E5ECF6",
           "aaxis": {
            "gridcolor": "white",
            "linecolor": "white",
            "ticks": ""
           },
           "baxis": {
            "gridcolor": "white",
            "linecolor": "white",
            "ticks": ""
           },
           "caxis": {
            "gridcolor": "white",
            "linecolor": "white",
            "ticks": ""
           }
          },
          "coloraxis": {
           "colorbar": {
            "outlinewidth": 0,
            "ticks": ""
           }
          },
          "colorscale": {
           "sequential": [
            [
             0.0,
             "#0d0887"
            ],
            [
             0.1111111111111111,
             "#46039f"
            ],
            [
             0.2222222222222222,
             "#7201a8"
            ],
            [
             0.3333333333333333,
             "#9c179e"
            ],
            [
             0.4444444444444444,
             "#bd3786"
            ],
            [
             0.5555555555555556,
             "#d8576b"
            ],
            [
             0.6666666666666666,
             "#ed7953"
            ],
            [
             0.7777777777777778,
             "#fb9f3a"
            ],
            [
             0.8888888888888888,
             "#fdca26"
            ],
            [
             1.0,
             "#f0f921"
            ]
           ],
           "sequentialminus": [
            [
             0.0,
             "#0d0887"
            ],
            [
             0.1111111111111111,
             "#46039f"
            ],
            [
             0.2222222222222222,
             "#7201a8"
            ],
            [
             0.3333333333333333,
             "#9c179e"
            ],
            [
             0.4444444444444444,
             "#bd3786"
            ],
            [
             0.5555555555555556,
             "#d8576b"
            ],
            [
             0.6666666666666666,
             "#ed7953"
            ],
            [
             0.7777777777777778,
             "#fb9f3a"
            ],
            [
             0.8888888888888888,
             "#fdca26"
            ],
            [
             1.0,
             "#f0f921"
            ]
           ],
           "diverging": [
            [
             0,
             "#8e0152"
            ],
            [
             0.1,
             "#c51b7d"
            ],
            [
             0.2,
             "#de77ae"
            ],
            [
             0.3,
             "#f1b6da"
            ],
            [
             0.4,
             "#fde0ef"
            ],
            [
             0.5,
             "#f7f7f7"
            ],
            [
             0.6,
             "#e6f5d0"
            ],
            [
             0.7,
             "#b8e186"
            ],
            [
             0.8,
             "#7fbc41"
            ],
            [
             0.9,
             "#4d9221"
            ],
            [
             1,
             "#276419"
            ]
           ]
          },
          "xaxis": {
           "gridcolor": "white",
           "linecolor": "white",
           "ticks": "",
           "title": {
            "standoff": 15
           },
           "zerolinecolor": "white",
           "automargin": true,
           "zerolinewidth": 2
          },
          "yaxis": {
           "gridcolor": "white",
           "linecolor": "white",
           "ticks": "",
           "title": {
            "standoff": 15
           },
           "zerolinecolor": "white",
           "automargin": true,
           "zerolinewidth": 2
          },
          "scene": {
           "xaxis": {
            "backgroundcolor": "#E5ECF6",
            "gridcolor": "white",
            "linecolor": "white",
            "showbackground": true,
            "ticks": "",
            "zerolinecolor": "white",
            "gridwidth": 2
           },
           "yaxis": {
            "backgroundcolor": "#E5ECF6",
            "gridcolor": "white",
            "linecolor": "white",
            "showbackground": true,
            "ticks": "",
            "zerolinecolor": "white",
            "gridwidth": 2
           },
           "zaxis": {
            "backgroundcolor": "#E5ECF6",
            "gridcolor": "white",
            "linecolor": "white",
            "showbackground": true,
            "ticks": "",
            "zerolinecolor": "white",
            "gridwidth": 2
           }
          },
          "shapedefaults": {
           "line": {
            "color": "#2a3f5f"
           }
          },
          "annotationdefaults": {
           "arrowcolor": "#2a3f5f",
           "arrowhead": 0,
           "arrowwidth": 1
          },
          "geo": {
           "bgcolor": "white",
           "landcolor": "#E5ECF6",
           "subunitcolor": "white",
           "showland": true,
           "showlakes": true,
           "lakecolor": "white"
          },
          "title": {
           "x": 0.05
          },
          "mapbox": {
           "style": "light"
          }
         }
        }
       },
       "config": {
        "plotlyServerURL": "https://plot.ly"
       }
      },
      "text/html": "<div>                            <div id=\"a646e69a-74b2-4332-9c37-76bbff3ddd84\" class=\"plotly-graph-div\" style=\"height:525px; width:100%;\"></div>            <script type=\"text/javascript\">                require([\"plotly\"], function(Plotly) {                    window.PLOTLYENV=window.PLOTLYENV || {};                                    if (document.getElementById(\"a646e69a-74b2-4332-9c37-76bbff3ddd84\")) {                    Plotly.newPlot(                        \"a646e69a-74b2-4332-9c37-76bbff3ddd84\",                        [{\"close\":[0.0002839835281233176,0.0002868661503675616,0.0002876992279290885,0.00025667772035652597,0.0002556531112889115,0.0002537937315368115,0.000239660831404368,0.0002654481717615549,0.00026905583866304643,0.0002446487947790997,0.000274710522228321,0.00027944822721506817,0.0003049087898315063,0.00029507050330545914,0.00040805342649443104,0.000360252200351276,0.00041124852816684936,0.00043711428093790695,0.0004748934811266928,0.0003785703280456917,0.00037048128950498106,0.0003478968708038936,0.00036343624978538,0.0004141786357876802,0.00043772663886436895,0.0004180482695299938,0.00036918693614793063,0.0003787596510705332,0.0003683019941027457,0.00034981547900079797,0.00037122295642096927,0.00038195447186389507,0.00036940850369504406,0.0003868746651617969,0.0003978596790975647,0.00038421455092326617,0.00040435716860250413,0.00042547067352847226,0.00041504928124907494],\"high\":[0.000302872830814394,0.00029657913117345794,0.0002955134190187431,0.0002879582608301171,0.00026637882151809124,0.00027230379509705644,0.00026873318142230535,0.00027043145951198864,0.0002891701681552156,0.0002701881928479769,0.0002791689326229194,0.0003002193749025813,0.0003240214257140546,0.00030677432426992954,0.0005128516817046206,0.00046932294735408216,0.00048178107454232503,0.00046067465140964015,0.0005846890277039274,0.0004773692348241258,0.00041980767646149713,0.0003761929504481134,0.0003773231672671669,0.00042854496282719487,0.0004511469389647206,0.0004551798649800277,0.0004372017081652373,0.000394098096030508,0.000390059919853146,0.0003736810076797131,0.0003940192882326686,0.0003906063588374883,0.00038183990843578523,0.0003868746651617969,0.00043211650885775977,0.00041289673408493287,0.00040968882705243496,0.0004289737006866897,0.0004407131733942814],\"low\":[0.0002824824717886623,0.00027844407236715863,0.0002798676931037164,0.00025278063480884023,0.0002514947995288791,0.0002388235264972937,0.000239660831404368,0.00022870365011841973,0.0002471321432413087,0.00024023667934896137,0.0002432583327520644,0.000257268728962782,0.00027925269167805344,0.00028143926991579325,0.0002919886252849793,0.0003337553242685084,0.00034193031279146986,0.00040367037969072164,0.0004216166455196312,0.0003733821973539027,0.0003639090004943445,0.0003445732061394588,0.00034768820572027634,0.0003631819461421592,0.0003908798653296825,0.0004054098124536019,0.000369150021145816,0.0003663918898120747,0.00035806146001512686,0.0003465081320854523,0.0003499904217253446,0.0003563113376669916,0.0003658793256727299,0.0003527661569914255,0.00038310199833322165,0.0003821837018478238,0.0003827956546053149,0.00040230029935899004,0.00041504928124907494],\"open\":[0.00030247937161085936,0.0002842676394781125,0.0002868374666208995,0.0002874404280411488,0.0002567033881285616,0.0002556531112889115,0.00025343868665401396,0.000239660831404368,0.00026486485683062264,0.00026954055104770494,0.00024508953712206637,0.0002744908526733701,0.00027928061694722125,0.0003046040486744511,0.00029542478272088796,0.0004060995607678931,0.000360252200351276,0.00041149533897925423,0.00043702687119339957,0.0004744188487325381,0.00037917649506702666,0.00037007400449825617,0.00034786208459543406,0.00036358164609292295,0.0004143029018041897,0.00043772663886436895,0.00041817369655271886,0.0003693346330750827,0.0003787596510705332,0.0003683019941027457,0.0003499904217253446,0.0003714086050251877,0.00038183990843578523,0.0003693715665383902,0.0003864880031926162,0.00039762104681836366,0.00038421455092326617,0.0004043976043193644,0.00042500293647659344],\"x\":[\"2021-05-05T00:00:00\",\"2021-05-06T00:00:00\",\"2021-05-07T00:00:00\",\"2021-05-08T00:00:00\",\"2021-05-09T00:00:00\",\"2021-05-10T00:00:00\",\"2021-05-11T00:00:00\",\"2021-05-12T00:00:00\",\"2021-05-13T00:00:00\",\"2021-05-14T00:00:00\",\"2021-05-15T00:00:00\",\"2021-05-16T00:00:00\",\"2021-05-17T00:00:00\",\"2021-05-18T00:00:00\",\"2021-05-19T00:00:00\",\"2021-05-20T00:00:00\",\"2021-05-21T00:00:00\",\"2021-05-22T00:00:00\",\"2021-05-23T00:00:00\",\"2021-05-24T00:00:00\",\"2021-05-25T00:00:00\",\"2021-05-26T00:00:00\",\"2021-05-27T00:00:00\",\"2021-05-28T00:00:00\",\"2021-05-29T00:00:00\",\"2021-05-30T00:00:00\",\"2021-05-31T00:00:00\",\"2021-06-01T00:00:00\",\"2021-06-02T00:00:00\",\"2021-06-03T00:00:00\",\"2021-06-04T00:00:00\",\"2021-06-05T00:00:00\",\"2021-06-06T00:00:00\",\"2021-06-07T00:00:00\",\"2021-06-08T00:00:00\",\"2021-06-09T00:00:00\",\"2021-06-10T00:00:00\",\"2021-06-11T00:00:00\",\"2021-06-12T00:00:00\"],\"type\":\"ohlc\"}],                        {\"template\":{\"data\":{\"histogram2dcontour\":[{\"type\":\"histogram2dcontour\",\"colorbar\":{\"outlinewidth\":0,\"ticks\":\"\"},\"colorscale\":[[0.0,\"#0d0887\"],[0.1111111111111111,\"#46039f\"],[0.2222222222222222,\"#7201a8\"],[0.3333333333333333,\"#9c179e\"],[0.4444444444444444,\"#bd3786\"],[0.5555555555555556,\"#d8576b\"],[0.6666666666666666,\"#ed7953\"],[0.7777777777777778,\"#fb9f3a\"],[0.8888888888888888,\"#fdca26\"],[1.0,\"#f0f921\"]]}],\"choropleth\":[{\"type\":\"choropleth\",\"colorbar\":{\"outlinewidth\":0,\"ticks\":\"\"}}],\"histogram2d\":[{\"type\":\"histogram2d\",\"colorbar\":{\"outlinewidth\":0,\"ticks\":\"\"},\"colorscale\":[[0.0,\"#0d0887\"],[0.1111111111111111,\"#46039f\"],[0.2222222222222222,\"#7201a8\"],[0.3333333333333333,\"#9c179e\"],[0.4444444444444444,\"#bd3786\"],[0.5555555555555556,\"#d8576b\"],[0.6666666666666666,\"#ed7953\"],[0.7777777777777778,\"#fb9f3a\"],[0.8888888888888888,\"#fdca26\"],[1.0,\"#f0f921\"]]}],\"heatmap\":[{\"type\":\"heatmap\",\"colorbar\":{\"outlinewidth\":0,\"ticks\":\"\"},\"colorscale\":[[0.0,\"#0d0887\"],[0.1111111111111111,\"#46039f\"],[0.2222222222222222,\"#7201a8\"],[0.3333333333333333,\"#9c179e\"],[0.4444444444444444,\"#bd3786\"],[0.5555555555555556,\"#d8576b\"],[0.6666666666666666,\"#ed7953\"],[0.7777777777777778,\"#fb9f3a\"],[0.8888888888888888,\"#fdca26\"],[1.0,\"#f0f921\"]]}],\"heatmapgl\":[{\"type\":\"heatmapgl\",\"colorbar\":{\"outlinewidth\":0,\"ticks\":\"\"},\"colorscale\":[[0.0,\"#0d0887\"],[0.1111111111111111,\"#46039f\"],[0.2222222222222222,\"#7201a8\"],[0.3333333333333333,\"#9c179e\"],[0.4444444444444444,\"#bd3786\"],[0.5555555555555556,\"#d8576b\"],[0.6666666666666666,\"#ed7953\"],[0.7777777777777778,\"#fb9f3a\"],[0.8888888888888888,\"#fdca26\"],[1.0,\"#f0f921\"]]}],\"contourcarpet\":[{\"type\":\"contourcarpet\",\"colorbar\":{\"outlinewidth\":0,\"ticks\":\"\"}}],\"contour\":[{\"type\":\"contour\",\"colorbar\":{\"outlinewidth\":0,\"ticks\":\"\"},\"colorscale\":[[0.0,\"#0d0887\"],[0.1111111111111111,\"#46039f\"],[0.2222222222222222,\"#7201a8\"],[0.3333333333333333,\"#9c179e\"],[0.4444444444444444,\"#bd3786\"],[0.5555555555555556,\"#d8576b\"],[0.6666666666666666,\"#ed7953\"],[0.7777777777777778,\"#fb9f3a\"],[0.8888888888888888,\"#fdca26\"],[1.0,\"#f0f921\"]]}],\"surface\":[{\"type\":\"surface\",\"colorbar\":{\"outlinewidth\":0,\"ticks\":\"\"},\"colorscale\":[[0.0,\"#0d0887\"],[0.1111111111111111,\"#46039f\"],[0.2222222222222222,\"#7201a8\"],[0.3333333333333333,\"#9c179e\"],[0.4444444444444444,\"#bd3786\"],[0.5555555555555556,\"#d8576b\"],[0.6666666666666666,\"#ed7953\"],[0.7777777777777778,\"#fb9f3a\"],[0.8888888888888888,\"#fdca26\"],[1.0,\"#f0f921\"]]}],\"mesh3d\":[{\"type\":\"mesh3d\",\"colorbar\":{\"outlinewidth\":0,\"ticks\":\"\"}}],\"scatter\":[{\"fillpattern\":{\"fillmode\":\"overlay\",\"size\":10,\"solidity\":0.2},\"type\":\"scatter\"}],\"parcoords\":[{\"type\":\"parcoords\",\"line\":{\"colorbar\":{\"outlinewidth\":0,\"ticks\":\"\"}}}],\"scatterpolargl\":[{\"type\":\"scatterpolargl\",\"marker\":{\"colorbar\":{\"outlinewidth\":0,\"ticks\":\"\"}}}],\"bar\":[{\"error_x\":{\"color\":\"#2a3f5f\"},\"error_y\":{\"color\":\"#2a3f5f\"},\"marker\":{\"line\":{\"color\":\"#E5ECF6\",\"width\":0.5},\"pattern\":{\"fillmode\":\"overlay\",\"size\":10,\"solidity\":0.2}},\"type\":\"bar\"}],\"scattergeo\":[{\"type\":\"scattergeo\",\"marker\":{\"colorbar\":{\"outlinewidth\":0,\"ticks\":\"\"}}}],\"scatterpolar\":[{\"type\":\"scatterpolar\",\"marker\":{\"colorbar\":{\"outlinewidth\":0,\"ticks\":\"\"}}}],\"histogram\":[{\"marker\":{\"pattern\":{\"fillmode\":\"overlay\",\"size\":10,\"solidity\":0.2}},\"type\":\"histogram\"}],\"scattergl\":[{\"type\":\"scattergl\",\"marker\":{\"colorbar\":{\"outlinewidth\":0,\"ticks\":\"\"}}}],\"scatter3d\":[{\"type\":\"scatter3d\",\"line\":{\"colorbar\":{\"outlinewidth\":0,\"ticks\":\"\"}},\"marker\":{\"colorbar\":{\"outlinewidth\":0,\"ticks\":\"\"}}}],\"scattermapbox\":[{\"type\":\"scattermapbox\",\"marker\":{\"colorbar\":{\"outlinewidth\":0,\"ticks\":\"\"}}}],\"scatterternary\":[{\"type\":\"scatterternary\",\"marker\":{\"colorbar\":{\"outlinewidth\":0,\"ticks\":\"\"}}}],\"scattercarpet\":[{\"type\":\"scattercarpet\",\"marker\":{\"colorbar\":{\"outlinewidth\":0,\"ticks\":\"\"}}}],\"carpet\":[{\"aaxis\":{\"endlinecolor\":\"#2a3f5f\",\"gridcolor\":\"white\",\"linecolor\":\"white\",\"minorgridcolor\":\"white\",\"startlinecolor\":\"#2a3f5f\"},\"baxis\":{\"endlinecolor\":\"#2a3f5f\",\"gridcolor\":\"white\",\"linecolor\":\"white\",\"minorgridcolor\":\"white\",\"startlinecolor\":\"#2a3f5f\"},\"type\":\"carpet\"}],\"table\":[{\"cells\":{\"fill\":{\"color\":\"#EBF0F8\"},\"line\":{\"color\":\"white\"}},\"header\":{\"fill\":{\"color\":\"#C8D4E3\"},\"line\":{\"color\":\"white\"}},\"type\":\"table\"}],\"barpolar\":[{\"marker\":{\"line\":{\"color\":\"#E5ECF6\",\"width\":0.5},\"pattern\":{\"fillmode\":\"overlay\",\"size\":10,\"solidity\":0.2}},\"type\":\"barpolar\"}],\"pie\":[{\"automargin\":true,\"type\":\"pie\"}]},\"layout\":{\"autotypenumbers\":\"strict\",\"colorway\":[\"#636efa\",\"#EF553B\",\"#00cc96\",\"#ab63fa\",\"#FFA15A\",\"#19d3f3\",\"#FF6692\",\"#B6E880\",\"#FF97FF\",\"#FECB52\"],\"font\":{\"color\":\"#2a3f5f\"},\"hovermode\":\"closest\",\"hoverlabel\":{\"align\":\"left\"},\"paper_bgcolor\":\"white\",\"plot_bgcolor\":\"#E5ECF6\",\"polar\":{\"bgcolor\":\"#E5ECF6\",\"angularaxis\":{\"gridcolor\":\"white\",\"linecolor\":\"white\",\"ticks\":\"\"},\"radialaxis\":{\"gridcolor\":\"white\",\"linecolor\":\"white\",\"ticks\":\"\"}},\"ternary\":{\"bgcolor\":\"#E5ECF6\",\"aaxis\":{\"gridcolor\":\"white\",\"linecolor\":\"white\",\"ticks\":\"\"},\"baxis\":{\"gridcolor\":\"white\",\"linecolor\":\"white\",\"ticks\":\"\"},\"caxis\":{\"gridcolor\":\"white\",\"linecolor\":\"white\",\"ticks\":\"\"}},\"coloraxis\":{\"colorbar\":{\"outlinewidth\":0,\"ticks\":\"\"}},\"colorscale\":{\"sequential\":[[0.0,\"#0d0887\"],[0.1111111111111111,\"#46039f\"],[0.2222222222222222,\"#7201a8\"],[0.3333333333333333,\"#9c179e\"],[0.4444444444444444,\"#bd3786\"],[0.5555555555555556,\"#d8576b\"],[0.6666666666666666,\"#ed7953\"],[0.7777777777777778,\"#fb9f3a\"],[0.8888888888888888,\"#fdca26\"],[1.0,\"#f0f921\"]],\"sequentialminus\":[[0.0,\"#0d0887\"],[0.1111111111111111,\"#46039f\"],[0.2222222222222222,\"#7201a8\"],[0.3333333333333333,\"#9c179e\"],[0.4444444444444444,\"#bd3786\"],[0.5555555555555556,\"#d8576b\"],[0.6666666666666666,\"#ed7953\"],[0.7777777777777778,\"#fb9f3a\"],[0.8888888888888888,\"#fdca26\"],[1.0,\"#f0f921\"]],\"diverging\":[[0,\"#8e0152\"],[0.1,\"#c51b7d\"],[0.2,\"#de77ae\"],[0.3,\"#f1b6da\"],[0.4,\"#fde0ef\"],[0.5,\"#f7f7f7\"],[0.6,\"#e6f5d0\"],[0.7,\"#b8e186\"],[0.8,\"#7fbc41\"],[0.9,\"#4d9221\"],[1,\"#276419\"]]},\"xaxis\":{\"gridcolor\":\"white\",\"linecolor\":\"white\",\"ticks\":\"\",\"title\":{\"standoff\":15},\"zerolinecolor\":\"white\",\"automargin\":true,\"zerolinewidth\":2},\"yaxis\":{\"gridcolor\":\"white\",\"linecolor\":\"white\",\"ticks\":\"\",\"title\":{\"standoff\":15},\"zerolinecolor\":\"white\",\"automargin\":true,\"zerolinewidth\":2},\"scene\":{\"xaxis\":{\"backgroundcolor\":\"#E5ECF6\",\"gridcolor\":\"white\",\"linecolor\":\"white\",\"showbackground\":true,\"ticks\":\"\",\"zerolinecolor\":\"white\",\"gridwidth\":2},\"yaxis\":{\"backgroundcolor\":\"#E5ECF6\",\"gridcolor\":\"white\",\"linecolor\":\"white\",\"showbackground\":true,\"ticks\":\"\",\"zerolinecolor\":\"white\",\"gridwidth\":2},\"zaxis\":{\"backgroundcolor\":\"#E5ECF6\",\"gridcolor\":\"white\",\"linecolor\":\"white\",\"showbackground\":true,\"ticks\":\"\",\"zerolinecolor\":\"white\",\"gridwidth\":2}},\"shapedefaults\":{\"line\":{\"color\":\"#2a3f5f\"}},\"annotationdefaults\":{\"arrowcolor\":\"#2a3f5f\",\"arrowhead\":0,\"arrowwidth\":1},\"geo\":{\"bgcolor\":\"white\",\"landcolor\":\"#E5ECF6\",\"subunitcolor\":\"white\",\"showland\":true,\"showlakes\":true,\"lakecolor\":\"white\"},\"title\":{\"x\":0.05},\"mapbox\":{\"style\":\"light\"}}}},                        {\"responsive\": true}                    ).then(function(){\n                            \nvar gd = document.getElementById('a646e69a-74b2-4332-9c37-76bbff3ddd84');\nvar x = new MutationObserver(function (mutations, observer) {{\n        var display = window.getComputedStyle(gd).display;\n        if (!display || display === 'none') {{\n            console.log([gd, 'removed!']);\n            Plotly.purge(gd);\n            observer.disconnect();\n        }}\n}});\n\n// Listen for the removal of the full notebook cells\nvar notebookContainer = gd.closest('#notebook-container');\nif (notebookContainer) {{\n    x.observe(notebookContainer, {childList: true});\n}}\n\n// Listen for the clearing of the current output cell\nvar outputEl = gd.closest('.output');\nif (outputEl) {{\n    x.observe(outputEl, {childList: true});\n}}\n\n                        })                };                });            </script>        </div>"
     },
     "metadata": {},
     "output_type": "display_data"
    }
   ],
   "source": [
    "import plotly.graph_objects as go\n",
    "\n",
    "fig = go.Figure(data=go.Ohlc(x=candles.index,\n",
    "                    open=candles['open'],\n",
    "                    high=candles['high'],\n",
    "                    low=candles['low'],\n",
    "                    close=candles['close']))\n",
    "fig.show()"
   ]
  },
  {
   "cell_type": "code",
   "execution_count": 310,
   "outputs": [],
   "source": [],
   "metadata": {
    "collapsed": false,
    "pycharm": {
     "name": "#%%\n"
    }
   }
  }
 ],
 "metadata": {
  "interpreter": {
   "hash": "9b6697946b59f1cda35d1a9d955611df8679c38ae8cee6d6fc35b656a9a31b3c"
  },
  "kernelspec": {
   "display_name": "Python 3.9.10 ('web3-ethereum-defi-0d8b7oDT-py3.9')",
   "language": "python",
   "name": "python3"
  },
  "language_info": {
   "codemirror_mode": {
    "name": "ipython",
    "version": 3
   },
   "file_extension": ".py",
   "mimetype": "text/x-python",
   "name": "python",
   "nbconvert_exporter": "python",
   "pygments_lexer": "ipython3",
   "version": "3.9.10"
  },
  "orig_nbformat": 4
 },
 "nbformat": 4,
 "nbformat_minor": 2
}