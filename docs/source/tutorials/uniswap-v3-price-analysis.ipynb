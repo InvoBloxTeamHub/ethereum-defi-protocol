{
 "cells": [
  {
   "cell_type": "markdown",
   "metadata": {},
   "source": [
    "# Uniswap V3 price analysis\n",
    "\n",
    "In this notebook we will show how to download price events from Uniswap V3 to your computer as CSV files and use them to analyse price in each pool.\n",
    "\n",
    "You will need to havev Ethereum JSON-RPC API node URL in order to pull out the data from Ethereum blockchain.\n",
    "You will be interactively asked for this API key."
   ]
  },
  {
   "cell_type": "markdown",
   "metadata": {},
   "source": [
    "### Setup the notebook"
   ]
  },
  {
   "cell_type": "code",
   "execution_count": 18,
   "metadata": {},
   "outputs": [
    {
     "name": "stdout",
     "output_type": "stream",
     "text": [
      "The autoreload extension is already loaded. To reload it, use:\n",
      "  %reload_ext autoreload\n"
     ]
    }
   ],
   "source": [
    "%load_ext autoreload\n",
    "%autoreload 2"
   ]
  },
  {
   "cell_type": "code",
   "execution_count": 19,
   "metadata": {},
   "outputs": [],
   "source": [
    "import pandas as pd\n",
    "import matplotlib.pyplot as plt\n",
    "\n",
    "from eth_defi.uniswap_v3.constants import UNISWAP_V3_FACTORY_CREATED_AT_BLOCK\n",
    "from eth_defi.uniswap_v3.events import fetch_events_to_csv"
   ]
  },
  {
   "cell_type": "markdown",
   "metadata": {},
   "source": [
    "### Download the raw data\n",
    "\n",
    "For simplicity, you can sign up for free access to an Ethereum node for example at [Infura](https://infura.io/), however we recommend you to [run your own Ethereum node](https://tradingstrategy.ai/blog/preparing-a-server-for-hosting-goethereum-full-node)."
   ]
  },
  {
   "cell_type": "code",
   "execution_count": 20,
   "metadata": {},
   "outputs": [],
   "source": [
    "# Get your node JSON-RPC URL\n",
    "json_rpc_url = input(\"Please enter your Ethereum mainnet JSON-RPC URL here\")"
   ]
  },
  {
   "cell_type": "markdown",
   "metadata": {},
   "source": [
    "As an example, here we download raw events from first few blocks after Uniswap V3 was deployed.\n",
    "The events will be stored in several CSV files at `/tmp` folder.\n",
    "\n",
    "The scan will take hours. It can resumed on a crash, as we save the last scanned block in a JSON state file."
   ]
  },
  {
   "cell_type": "code",
   "execution_count": 21,
   "metadata": {},
   "outputs": [
    {
     "name": "stdout",
     "output_type": "stream",
     "text": [
      "Restored previous scan state, data until block 12,456,621, we are skipping 87,000 blocks out of 250,000 total\n",
      "Scanning block range 12,456,621 - 12,619,621\n"
     ]
    },
    {
     "data": {
      "text/plain": "  0%|          | 0/163000 [00:00<?, ?it/s]",
      "application/vnd.jupyter.widget-view+json": {
       "version_major": 2,
       "version_minor": 0,
       "model_id": "efe3e883fda94ef2bf8eac9633c3fae2"
      }
     },
     "metadata": {},
     "output_type": "display_data"
    },
    {
     "name": "stdout",
     "output_type": "stream",
     "text": [
      "Wrote 1120 PoolCreated events\n",
      "Wrote 830605 Swap events\n",
      "Wrote 38605 Mint events\n",
      "Wrote 33344 Burn events\n"
     ]
    }
   ],
   "source": [
    "from eth_defi.event_reader.json_state import JSONFileScanState\n",
    "\n",
    "start_block = UNISWAP_V3_FACTORY_CREATED_AT_BLOCK\n",
    "end_block = UNISWAP_V3_FACTORY_CREATED_AT_BLOCK + 250_000\n",
    "\n",
    "# Stores the last block number of event data we store\n",
    "state = JSONFileScanState(\"/tmp/uniswap-v3-price-scan.json\")\n",
    "\n",
    "fetch_events_to_csv(json_rpc_url, state, start_block=start_block, end_block=end_block)"
   ]
  },
  {
   "cell_type": "markdown",
   "metadata": {},
   "source": [
    "### Analysing Uniswap v3 price formation\n",
    "\n",
    "In Uniswap V3, you can get the current price of any pool from any given moment using swap events."
   ]
  },
  {
   "cell_type": "code",
   "execution_count": 22,
   "metadata": {},
   "outputs": [],
   "source": [
    "swap_df = pd.read_csv(\"/tmp/uniswap-v3-swap.csv\")"
   ]
  },
  {
   "cell_type": "markdown",
   "source": [],
   "metadata": {
    "collapsed": false
   }
  },
  {
   "cell_type": "markdown",
   "metadata": {},
   "source": [
    "Choose a pool to analyse, for example: USDC/ETH 0.3%.\n",
    "You can find pool addresses [on Uniswap v3 info site](https://info.uniswap.org/#/)."
   ]
  },
  {
   "cell_type": "code",
   "execution_count": 23,
   "metadata": {},
   "outputs": [],
   "source": [
    "pool_address = \"0x8ad599c3a0ff1de082011efddc58f1908eb6e6d8\""
   ]
  },
  {
   "cell_type": "markdown",
   "metadata": {},
   "source": [
    "Extract only swaps related to this pool from the dataframe"
   ]
  },
  {
   "cell_type": "code",
   "execution_count": 24,
   "metadata": {},
   "outputs": [
    {
     "data": {
      "text/plain": "         block_number            timestamp  \\\n19           12371376  2021-05-05T01:56:23   \n21           12373132  2021-05-05T08:23:26   \n25           12373520  2021-05-05T09:50:51   \n26           12374077  2021-05-05T11:59:57   \n45           12375770  2021-05-05T18:09:23   \n...               ...                  ...   \n1229173      12619596  2021-06-12T12:16:13   \n1229192      12619598  2021-06-12T12:16:25   \n1229194      12619598  2021-06-12T12:16:25   \n1229198      12619598  2021-06-12T12:16:25   \n1229358      12619619  2021-06-12T12:21:51   \n\n                                                   tx_hash  log_index  \\\n19       0xce7c3c307d820785caa12938012372fc9366a614a6aa...         26   \n21       0x9a1c51b0bffbf840948f3b6e3f3e495ba1cd3fa64854...        192   \n25       0xc58715c62a5bf70a6ca09f0e51546d6cad76c8d4fff0...          8   \n26       0x288c21b8b4fbf449b1d086a06e43b124ac2bc088c3f5...         86   \n45       0xf76f19b991131f0f396f116f79215637dacad3cf5e1b...        249   \n...                                                    ...        ...   \n1229173  0x8c1f6c5639b304eb0087c2b6d5b65e32ee4f1a51e8b0...        112   \n1229192  0xac8e34aa704a1ab4068bd93d4b5aef0fb7655d292fc9...          3   \n1229194  0x0752c6529f939f046c7f9648e8d27d76b1cf767d6902...          8   \n1229198  0xbd9193ff70e4828a43679f955c9707fa63fe1dabeed3...         45   \n1229358  0x91f7b948333f452324270b09d6cb074b69dda7647f4c...        281   \n\n                              pool_contract_address  \\\n19       0x8ad599c3a0ff1de082011efddc58f1908eb6e6d8   \n21       0x8ad599c3a0ff1de082011efddc58f1908eb6e6d8   \n25       0x8ad599c3a0ff1de082011efddc58f1908eb6e6d8   \n26       0x8ad599c3a0ff1de082011efddc58f1908eb6e6d8   \n45       0x8ad599c3a0ff1de082011efddc58f1908eb6e6d8   \n...                                             ...   \n1229173  0x8ad599c3a0ff1de082011efddc58f1908eb6e6d8   \n1229192  0x8ad599c3a0ff1de082011efddc58f1908eb6e6d8   \n1229194  0x8ad599c3a0ff1de082011efddc58f1908eb6e6d8   \n1229198  0x8ad599c3a0ff1de082011efddc58f1908eb6e6d8   \n1229358  0x8ad599c3a0ff1de082011efddc58f1908eb6e6d8   \n\n                                                   amount0  \\\n19       1157920892373161954235709850086879078532699846...   \n21       1157920892373161954235709850086879078532699846...   \n25       1157920892373161954235709850086879078532699846...   \n26                                                       2   \n45       1157920892373161954235709850086879078532699846...   \n...                                                    ...   \n1229173                                        92432639474   \n1229192                                        76760509615   \n1229194                                       482579746068   \n1229198                                       679981136491   \n1229358                                            8388626   \n\n                                                   amount1  \\\n19                                         100000000000000   \n21                                       50000000000000000   \n25                                         100000000000000   \n26       1157920892373161954235709850086879078532699846...   \n45                                         300000000000000   \n...                                                    ...   \n1229173  1157920892373161954235709850086879078532699846...   \n1229192  1157920892373161954235709850086879078532699846...   \n1229194  1157920892373161954235709850086879078532699846...   \n1229198  1157920892373161954235709850086879078532699846...   \n1229358  1157920892373161954235709850086879078532699846...   \n\n                             sqrt_price_x96             liquidity    tick  \n19       1377932816571815120446551350158799      4303369674465501  195285  \n21       1378850591292581266780357299649652      4303369674465501  195298  \n25       1378852426842022799073024911548633      4303369674465501  195298  \n26       1378852426842016741051966412054516      4304946248093346  195298  \n45       1370242002332554394456531434422627     52976694435070763  195173  \n...                                     ...                   ...     ...  \n1229173  1615736234513681125600943820478722  25998097729965548918  198469  \n1229192  1615639241428978886102798535892145  25997255949450154096  198468  \n1229194  1615029729696907486273078115160620  25997255949450154096  198460  \n1229198  1614171674604720940565192048438458  25997255949450154096  198449  \n1229358  1614171664025625771996673894396803  25999040327671324243  198449  \n\n[64094 rows x 10 columns]",
      "text/html": "<div>\n<style scoped>\n    .dataframe tbody tr th:only-of-type {\n        vertical-align: middle;\n    }\n\n    .dataframe tbody tr th {\n        vertical-align: top;\n    }\n\n    .dataframe thead th {\n        text-align: right;\n    }\n</style>\n<table border=\"1\" class=\"dataframe\">\n  <thead>\n    <tr style=\"text-align: right;\">\n      <th></th>\n      <th>block_number</th>\n      <th>timestamp</th>\n      <th>tx_hash</th>\n      <th>log_index</th>\n      <th>pool_contract_address</th>\n      <th>amount0</th>\n      <th>amount1</th>\n      <th>sqrt_price_x96</th>\n      <th>liquidity</th>\n      <th>tick</th>\n    </tr>\n  </thead>\n  <tbody>\n    <tr>\n      <th>19</th>\n      <td>12371376</td>\n      <td>2021-05-05T01:56:23</td>\n      <td>0xce7c3c307d820785caa12938012372fc9366a614a6aa...</td>\n      <td>26</td>\n      <td>0x8ad599c3a0ff1de082011efddc58f1908eb6e6d8</td>\n      <td>1157920892373161954235709850086879078532699846...</td>\n      <td>100000000000000</td>\n      <td>1377932816571815120446551350158799</td>\n      <td>4303369674465501</td>\n      <td>195285</td>\n    </tr>\n    <tr>\n      <th>21</th>\n      <td>12373132</td>\n      <td>2021-05-05T08:23:26</td>\n      <td>0x9a1c51b0bffbf840948f3b6e3f3e495ba1cd3fa64854...</td>\n      <td>192</td>\n      <td>0x8ad599c3a0ff1de082011efddc58f1908eb6e6d8</td>\n      <td>1157920892373161954235709850086879078532699846...</td>\n      <td>50000000000000000</td>\n      <td>1378850591292581266780357299649652</td>\n      <td>4303369674465501</td>\n      <td>195298</td>\n    </tr>\n    <tr>\n      <th>25</th>\n      <td>12373520</td>\n      <td>2021-05-05T09:50:51</td>\n      <td>0xc58715c62a5bf70a6ca09f0e51546d6cad76c8d4fff0...</td>\n      <td>8</td>\n      <td>0x8ad599c3a0ff1de082011efddc58f1908eb6e6d8</td>\n      <td>1157920892373161954235709850086879078532699846...</td>\n      <td>100000000000000</td>\n      <td>1378852426842022799073024911548633</td>\n      <td>4303369674465501</td>\n      <td>195298</td>\n    </tr>\n    <tr>\n      <th>26</th>\n      <td>12374077</td>\n      <td>2021-05-05T11:59:57</td>\n      <td>0x288c21b8b4fbf449b1d086a06e43b124ac2bc088c3f5...</td>\n      <td>86</td>\n      <td>0x8ad599c3a0ff1de082011efddc58f1908eb6e6d8</td>\n      <td>2</td>\n      <td>1157920892373161954235709850086879078532699846...</td>\n      <td>1378852426842016741051966412054516</td>\n      <td>4304946248093346</td>\n      <td>195298</td>\n    </tr>\n    <tr>\n      <th>45</th>\n      <td>12375770</td>\n      <td>2021-05-05T18:09:23</td>\n      <td>0xf76f19b991131f0f396f116f79215637dacad3cf5e1b...</td>\n      <td>249</td>\n      <td>0x8ad599c3a0ff1de082011efddc58f1908eb6e6d8</td>\n      <td>1157920892373161954235709850086879078532699846...</td>\n      <td>300000000000000</td>\n      <td>1370242002332554394456531434422627</td>\n      <td>52976694435070763</td>\n      <td>195173</td>\n    </tr>\n    <tr>\n      <th>...</th>\n      <td>...</td>\n      <td>...</td>\n      <td>...</td>\n      <td>...</td>\n      <td>...</td>\n      <td>...</td>\n      <td>...</td>\n      <td>...</td>\n      <td>...</td>\n      <td>...</td>\n    </tr>\n    <tr>\n      <th>1229173</th>\n      <td>12619596</td>\n      <td>2021-06-12T12:16:13</td>\n      <td>0x8c1f6c5639b304eb0087c2b6d5b65e32ee4f1a51e8b0...</td>\n      <td>112</td>\n      <td>0x8ad599c3a0ff1de082011efddc58f1908eb6e6d8</td>\n      <td>92432639474</td>\n      <td>1157920892373161954235709850086879078532699846...</td>\n      <td>1615736234513681125600943820478722</td>\n      <td>25998097729965548918</td>\n      <td>198469</td>\n    </tr>\n    <tr>\n      <th>1229192</th>\n      <td>12619598</td>\n      <td>2021-06-12T12:16:25</td>\n      <td>0xac8e34aa704a1ab4068bd93d4b5aef0fb7655d292fc9...</td>\n      <td>3</td>\n      <td>0x8ad599c3a0ff1de082011efddc58f1908eb6e6d8</td>\n      <td>76760509615</td>\n      <td>1157920892373161954235709850086879078532699846...</td>\n      <td>1615639241428978886102798535892145</td>\n      <td>25997255949450154096</td>\n      <td>198468</td>\n    </tr>\n    <tr>\n      <th>1229194</th>\n      <td>12619598</td>\n      <td>2021-06-12T12:16:25</td>\n      <td>0x0752c6529f939f046c7f9648e8d27d76b1cf767d6902...</td>\n      <td>8</td>\n      <td>0x8ad599c3a0ff1de082011efddc58f1908eb6e6d8</td>\n      <td>482579746068</td>\n      <td>1157920892373161954235709850086879078532699846...</td>\n      <td>1615029729696907486273078115160620</td>\n      <td>25997255949450154096</td>\n      <td>198460</td>\n    </tr>\n    <tr>\n      <th>1229198</th>\n      <td>12619598</td>\n      <td>2021-06-12T12:16:25</td>\n      <td>0xbd9193ff70e4828a43679f955c9707fa63fe1dabeed3...</td>\n      <td>45</td>\n      <td>0x8ad599c3a0ff1de082011efddc58f1908eb6e6d8</td>\n      <td>679981136491</td>\n      <td>1157920892373161954235709850086879078532699846...</td>\n      <td>1614171674604720940565192048438458</td>\n      <td>25997255949450154096</td>\n      <td>198449</td>\n    </tr>\n    <tr>\n      <th>1229358</th>\n      <td>12619619</td>\n      <td>2021-06-12T12:21:51</td>\n      <td>0x91f7b948333f452324270b09d6cb074b69dda7647f4c...</td>\n      <td>281</td>\n      <td>0x8ad599c3a0ff1de082011efddc58f1908eb6e6d8</td>\n      <td>8388626</td>\n      <td>1157920892373161954235709850086879078532699846...</td>\n      <td>1614171664025625771996673894396803</td>\n      <td>25999040327671324243</td>\n      <td>198449</td>\n    </tr>\n  </tbody>\n</table>\n<p>64094 rows × 10 columns</p>\n</div>"
     },
     "execution_count": 24,
     "metadata": {},
     "output_type": "execute_result"
    }
   ],
   "source": [
    "df = swap_df[swap_df.pool_contract_address == pool_address]\n",
    "df"
   ]
  },
  {
   "cell_type": "markdown",
   "metadata": {},
   "source": [
    "In Uniswap V3, we can get pool's price from pool's tick."
   ]
  },
  {
   "cell_type": "code",
   "execution_count": 25,
   "metadata": {},
   "outputs": [
    {
     "name": "stderr",
     "output_type": "stream",
     "text": [
      "/var/folders/tx/50wn88yd40v2_6_7fvfr98z00000gn/T/ipykernel_4254/3151975487.py:4: SettingWithCopyWarning: \n",
      "A value is trying to be set on a copy of a slice from a DataFrame.\n",
      "Try using .loc[row_indexer,col_indexer] = value instead\n",
      "\n",
      "See the caveats in the documentation: https://pandas.pydata.org/pandas-docs/stable/user_guide/indexing.html#returning-a-view-versus-a-copy\n",
      "  df[\"price\"] = df.apply(lambda row: tick_to_price(row[\"tick\"]), axis=1)\n"
     ]
    }
   ],
   "source": [
    "def tick_to_price(tick):\n",
    "    return 1.0001**tick\n",
    "\n",
    "df[\"price\"] = df.apply(lambda row: tick_to_price(row[\"tick\"]), axis=1)"
   ]
  },
  {
   "cell_type": "markdown",
   "metadata": {},
   "source": [
    "Then we can plot the price of this pool in first 1,000,000 blocks."
   ]
  },
  {
   "cell_type": "code",
   "execution_count": 26,
   "metadata": {},
   "outputs": [
    {
     "data": {
      "text/plain": "(array([-10000.,      0.,  10000.,  20000.,  30000.,  40000.,  50000.,\n         60000.,  70000.]),\n [Text(-10000.0, 0, '2021-06-03T13:37:08'),\n  Text(0.0, 0, '2021-05-05T01:56:23'),\n  Text(10000.0, 0, '2021-05-16T21:43:56'),\n  Text(20000.0, 0, '2021-05-20T19:24:34'),\n  Text(30000.0, 0, '2021-05-24T00:36:52'),\n  Text(40000.0, 0, '2021-05-27T13:15:57'),\n  Text(50000.0, 0, '2021-05-31T14:37:39'),\n  Text(60000.0, 0, '2021-06-09T03:04:48'),\n  Text(70000.0, 0, '')])"
     },
     "execution_count": 26,
     "metadata": {},
     "output_type": "execute_result"
    },
    {
     "data": {
      "text/plain": "<Figure size 432x288 with 1 Axes>",
      "image/png": "[encoded data removed]"
     },
     "metadata": {
      "needs_background": "light"
     },
     "output_type": "display_data"
    }
   ],
   "source": [
    "plt.rcParams[\"figure.dpi\"] = 200\n",
    "\n",
    "df.index = df.timestamp\n",
    "df[\"price\"].plot()\n",
    "\n",
    "plt.xticks(rotation=45, ha=\"right\")"
   ]
  }
 ],
 "metadata": {
  "interpreter": {
   "hash": "9b6697946b59f1cda35d1a9d955611df8679c38ae8cee6d6fc35b656a9a31b3c"
  },
  "kernelspec": {
   "display_name": "Python 3.9.10 ('web3-ethereum-defi-0d8b7oDT-py3.9')",
   "language": "python",
   "name": "python3"
  },
  "language_info": {
   "codemirror_mode": {
    "name": "ipython",
    "version": 3
   },
   "file_extension": ".py",
   "mimetype": "text/x-python",
   "name": "python",
   "nbconvert_exporter": "python",
   "pygments_lexer": "ipython3",
   "version": "3.9.10"
  },
  "orig_nbformat": 4
 },
 "nbformat": 4,
 "nbformat_minor": 2
}