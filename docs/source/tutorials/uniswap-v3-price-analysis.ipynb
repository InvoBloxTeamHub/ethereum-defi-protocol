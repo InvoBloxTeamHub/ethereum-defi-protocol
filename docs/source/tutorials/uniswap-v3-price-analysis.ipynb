{
 "cells": [
  {
   "cell_type": "markdown",
   "metadata": {},
   "source": [
    "# Uniswap V3 price analysis\n",
    "\n",
    "In this notebook we will show how to download price events from Uniswap V3 to your computer as CSV files and use them to analyse price in each pool.\n",
    "\n",
    "You will need to havev Ethereum JSON-RPC API node URL in order to pull out the data from Ethereum blockchain.\n",
    "You will be interactively asked for this API key."
   ]
  },
  {
   "cell_type": "markdown",
   "metadata": {},
   "source": [
    "### Setup the notebook"
   ]
  },
  {
   "cell_type": "code",
   "execution_count": null,
   "metadata": {},
   "outputs": [],
   "source": [
    "%load_ext autoreload\n",
    "%autoreload 2"
   ]
  },
  {
   "cell_type": "code",
   "execution_count": null,
   "metadata": {},
   "outputs": [],
   "source": [
    "import pandas as pd\n",
    "import matplotlib.pyplot as plt\n",
    "\n",
    "from eth_defi.uniswap_v3.constants import UNISWAP_V3_FACTORY_CREATED_AT_BLOCK\n",
    "from eth_defi.uniswap_v3.events import fetch_events_to_csv"
   ]
  },
  {
   "cell_type": "markdown",
   "metadata": {},
   "source": [
    "### Download the raw data\n",
    "\n",
    "For simplicity, you can sign up for free access to an Ethereum node for example at [Infura](https://infura.io/), however we recommend you to [run your own Ethereum node](https://tradingstrategy.ai/blog/preparing-a-server-for-hosting-goethereum-full-node)/"
   ]
  },
  {
   "cell_type": "code",
   "execution_count": null,
   "metadata": {},
   "outputs": [],
   "source": [
    "# Get your node JSON-RPC URL\n",
    "json_rpc_url = input(\"Please enter your JSON-RPC URL here\")"
   ]
  },
  {
   "cell_type": "markdown",
   "metadata": {},
   "source": [
    "As an example, here we download raw events from first 1000000 blocks after Uniswap V3 factory is created, the events will be stored in several CSV files at `/tmp` folder."
   ]
  },
  {
   "cell_type": "code",
   "execution_count": null,
   "metadata": {},
   "outputs": [
    {
     "name": "stderr",
     "output_type": "stream",
     "text": [
      "Block: 12,381,421, events: 20452, time:06-05-2021:   1%|          | 11900/1000000 [01:15<1:20:50, 203.71it/s]WARNING:urllib3.connectionpool:Connection pool is full, discarding connection: vitalik.tradingstrategy.ai. Connection pool size: 10\n",
      "Block: 12,381,621, events: 21394, time:06-05-2021:   1%|          | 12100/1000000 [01:16<1:21:58, 200.85it/s]WARNING:urllib3.connectionpool:Connection pool is full, discarding connection: vitalik.tradingstrategy.ai. Connection pool size: 10\n",
      "Block: 12,381,721, events: 21887, time:06-05-2021:   1%|          | 12200/1000000 [01:17<1:32:53, 177.24it/s]WARNING:urllib3.connectionpool:Connection pool is full, discarding connection: vitalik.tradingstrategy.ai. Connection pool size: 10\n",
      "Block: 12,382,921, events: 26857, time:06-05-2021:   1%|▏         | 13400/1000000 [01:23<1:26:49, 189.40it/s]WARNING:urllib3.connectionpool:Connection pool is full, discarding connection: vitalik.tradingstrategy.ai. Connection pool size: 10\n",
      "WARNING:urllib3.connectionpool:Connection pool is full, discarding connection: vitalik.tradingstrategy.ai. Connection pool size: 10\n",
      "Block: 12,383,321, events: 28660, time:06-05-2021:   1%|▏         | 13800/1000000 [01:25<1:09:52, 235.23it/s]WARNING:urllib3.connectionpool:Connection pool is full, discarding connection: vitalik.tradingstrategy.ai. Connection pool size: 10\n",
      "Block: 12,383,821, events: 31110, time:06-05-2021:   1%|▏         | 14300/1000000 [01:27<1:09:19, 236.97it/s]WARNING:urllib3.connectionpool:Connection pool is full, discarding connection: vitalik.tradingstrategy.ai. Connection pool size: 10\n",
      "WARNING:urllib3.connectionpool:Connection pool is full, discarding connection: vitalik.tradingstrategy.ai. Connection pool size: 10\n",
      "Block: 12,384,021, events: 32060, time:07-05-2021:   1%|▏         | 14500/1000000 [01:28<1:12:13, 227.39it/s]WARNING:urllib3.connectionpool:Connection pool is full, discarding connection: vitalik.tradingstrategy.ai. Connection pool size: 10\n",
      "WARNING:urllib3.connectionpool:Connection pool is full, discarding connection: vitalik.tradingstrategy.ai. Connection pool size: 10\n",
      "Block: 12,384,221, events: 32980, time:07-05-2021:   1%|▏         | 14700/1000000 [01:29<1:24:35, 194.12it/s]WARNING:urllib3.connectionpool:Connection pool is full, discarding connection: vitalik.tradingstrategy.ai. Connection pool size: 10\n",
      "WARNING:urllib3.connectionpool:Connection pool is full, discarding connection: vitalik.tradingstrategy.ai. Connection pool size: 10\n",
      "Block: 12,384,621, events: 34759, time:07-05-2021:   2%|▏         | 15100/1000000 [01:31<1:21:38, 201.06it/s]WARNING:urllib3.connectionpool:Connection pool is full, discarding connection: vitalik.tradingstrategy.ai. Connection pool size: 10\n",
      "WARNING:urllib3.connectionpool:Connection pool is full, discarding connection: vitalik.tradingstrategy.ai. Connection pool size: 10\n",
      "Block: 12,385,021, events: 36505, time:07-05-2021:   2%|▏         | 15500/1000000 [01:34<1:39:47, 164.41it/s]\n"
     ]
    },
    {
     "ename": "KeyboardInterrupt",
     "evalue": "",
     "output_type": "error",
     "traceback": [
      "\u001B[0;31m---------------------------------------------------------------------------\u001B[0m",
      "\u001B[0;31mKeyboardInterrupt\u001B[0m                         Traceback (most recent call last)",
      "Input \u001B[0;32mIn [8]\u001B[0m, in \u001B[0;36m<cell line: 4>\u001B[0;34m()\u001B[0m\n\u001B[1;32m      1\u001B[0m start_block \u001B[38;5;241m=\u001B[39m UNISWAP_V3_FACTORY_CREATED_AT_BLOCK\n\u001B[1;32m      2\u001B[0m end_block \u001B[38;5;241m=\u001B[39m UNISWAP_V3_FACTORY_CREATED_AT_BLOCK \u001B[38;5;241m+\u001B[39m \u001B[38;5;241m1_000_000\u001B[39m\n\u001B[0;32m----> 4\u001B[0m \u001B[43mfetch_events_to_csv\u001B[49m\u001B[43m(\u001B[49m\u001B[43mjson_rpc_url\u001B[49m\u001B[43m,\u001B[49m\u001B[43m \u001B[49m\u001B[43mstart_block\u001B[49m\u001B[38;5;241;43m=\u001B[39;49m\u001B[43mstart_block\u001B[49m\u001B[43m,\u001B[49m\u001B[43m \u001B[49m\u001B[43mend_block\u001B[49m\u001B[38;5;241;43m=\u001B[39;49m\u001B[43mend_block\u001B[49m\u001B[43m)\u001B[49m\n",
      "File \u001B[0;32m~/code/executor/trade-executor/deps/web3-ethereum-defi/eth_defi/uniswap_v3/events.py:355\u001B[0m, in \u001B[0;36mfetch_events_to_csv\u001B[0;34m(json_rpc_url, start_block, end_block, output_folder)\u001B[0m\n\u001B[1;32m    352\u001B[0m         buffer \u001B[38;5;241m=\u001B[39m []\n\u001B[1;32m    354\u001B[0m \u001B[38;5;66;03m# Read specified events in block range\u001B[39;00m\n\u001B[0;32m--> 355\u001B[0m \u001B[38;5;28;01mfor\u001B[39;00m log_result \u001B[38;5;129;01min\u001B[39;00m read_events_concurrent(\n\u001B[1;32m    356\u001B[0m     executor,\n\u001B[1;32m    357\u001B[0m     start_block,\n\u001B[1;32m    358\u001B[0m     end_block,\n\u001B[1;32m    359\u001B[0m     events\u001B[38;5;241m=\u001B[39mcontract_events,\n\u001B[1;32m    360\u001B[0m     notify\u001B[38;5;241m=\u001B[39mupdate_progress,\n\u001B[1;32m    361\u001B[0m     chunk_size\u001B[38;5;241m=\u001B[39m\u001B[38;5;241m100\u001B[39m,\n\u001B[1;32m    362\u001B[0m     context\u001B[38;5;241m=\u001B[39mtoken_cache,\n\u001B[1;32m    363\u001B[0m ):\n\u001B[1;32m    364\u001B[0m     \u001B[38;5;28;01mtry\u001B[39;00m:\n\u001B[1;32m    365\u001B[0m         \u001B[38;5;66;03m# write to correct buffer\u001B[39;00m\n\u001B[1;32m    366\u001B[0m         event_name \u001B[38;5;241m=\u001B[39m log_result[\u001B[38;5;124m\"\u001B[39m\u001B[38;5;124mevent\u001B[39m\u001B[38;5;124m\"\u001B[39m]\u001B[38;5;241m.\u001B[39mevent_name\n",
      "File \u001B[0;32m~/code/executor/trade-executor/deps/web3-ethereum-defi/eth_defi/event_reader/reader.py:465\u001B[0m, in \u001B[0;36mread_events_concurrent\u001B[0;34m(executor, start_block, end_block, events, notify, chunk_size, context, extract_timestamps)\u001B[0m\n\u001B[1;32m    463\u001B[0m \u001B[38;5;66;03m# Ping our master\u001B[39;00m\n\u001B[1;32m    464\u001B[0m \u001B[38;5;28;01mif\u001B[39;00m notify \u001B[38;5;129;01mis\u001B[39;00m \u001B[38;5;129;01mnot\u001B[39;00m \u001B[38;5;28;01mNone\u001B[39;00m:\n\u001B[0;32m--> 465\u001B[0m     \u001B[43mnotify\u001B[49m\u001B[43m(\u001B[49m\u001B[43mblock_num\u001B[49m\u001B[43m,\u001B[49m\u001B[43m \u001B[49m\u001B[43mstart_block\u001B[49m\u001B[43m,\u001B[49m\u001B[43m \u001B[49m\u001B[43mend_block\u001B[49m\u001B[43m,\u001B[49m\u001B[43m \u001B[49m\u001B[43mchunk_size\u001B[49m\u001B[43m,\u001B[49m\u001B[43m \u001B[49m\u001B[43mtotal_events\u001B[49m\u001B[43m,\u001B[49m\u001B[43m \u001B[49m\u001B[43mlast_timestamp\u001B[49m\u001B[43m,\u001B[49m\u001B[43m \u001B[49m\u001B[43mcontext\u001B[49m\u001B[43m)\u001B[49m\n\u001B[1;32m    467\u001B[0m \u001B[38;5;28;01massert\u001B[39;00m task\u001B[38;5;241m.\u001B[39mresult \u001B[38;5;129;01mis\u001B[39;00m \u001B[38;5;129;01mnot\u001B[39;00m \u001B[38;5;28;01mNone\u001B[39;00m, \u001B[38;5;124mf\u001B[39m\u001B[38;5;124m\"\u001B[39m\u001B[38;5;124mResult missing for the task: \u001B[39m\u001B[38;5;132;01m{\u001B[39;00mtask\u001B[38;5;132;01m}\u001B[39;00m\u001B[38;5;124m\"\u001B[39m\n\u001B[1;32m    469\u001B[0m log_results: List[LogResult] \u001B[38;5;241m=\u001B[39m task\u001B[38;5;241m.\u001B[39mresult\n",
      "File \u001B[0;32m~/code/executor/trade-executor/deps/web3-ethereum-defi/eth_defi/uniswap_v3/events.py:348\u001B[0m, in \u001B[0;36mfetch_events_to_csv.<locals>.update_progress\u001B[0;34m(current_block, start_block, end_block, chunk_size, total_events, last_timestamp, context)\u001B[0m\n\u001B[1;32m    346\u001B[0m \u001B[38;5;66;03m# write events to csv\u001B[39;00m\n\u001B[1;32m    347\u001B[0m \u001B[38;5;28;01mfor\u001B[39;00m entry \u001B[38;5;129;01min\u001B[39;00m buffer:\n\u001B[0;32m--> 348\u001B[0m     \u001B[43mbuffer_data\u001B[49m\u001B[43m[\u001B[49m\u001B[38;5;124;43m\"\u001B[39;49m\u001B[38;5;124;43mcsv_writer\u001B[39;49m\u001B[38;5;124;43m\"\u001B[39;49m\u001B[43m]\u001B[49m\u001B[38;5;241;43m.\u001B[39;49m\u001B[43mwriterow\u001B[49m\u001B[43m(\u001B[49m\u001B[43mentry\u001B[49m\u001B[43m)\u001B[49m\n\u001B[1;32m    349\u001B[0m     buffer_data[\u001B[38;5;124m\"\u001B[39m\u001B[38;5;124mtotal\u001B[39m\u001B[38;5;124m\"\u001B[39m] \u001B[38;5;241m+\u001B[39m\u001B[38;5;241m=\u001B[39m \u001B[38;5;241m1\u001B[39m\n\u001B[1;32m    351\u001B[0m \u001B[38;5;66;03m# then reset buffer\u001B[39;00m\n",
      "File \u001B[0;32m/opt/homebrew/Cellar/python@3.9/3.9.12/Frameworks/Python.framework/Versions/3.9/lib/python3.9/csv.py:154\u001B[0m, in \u001B[0;36mDictWriter.writerow\u001B[0;34m(self, rowdict)\u001B[0m\n\u001B[1;32m    153\u001B[0m \u001B[38;5;28;01mdef\u001B[39;00m \u001B[38;5;21mwriterow\u001B[39m(\u001B[38;5;28mself\u001B[39m, rowdict):\n\u001B[0;32m--> 154\u001B[0m     \u001B[38;5;28;01mreturn\u001B[39;00m \u001B[38;5;28;43mself\u001B[39;49m\u001B[38;5;241;43m.\u001B[39;49m\u001B[43mwriter\u001B[49m\u001B[38;5;241;43m.\u001B[39;49m\u001B[43mwriterow\u001B[49m\u001B[43m(\u001B[49m\u001B[38;5;28;43mself\u001B[39;49m\u001B[38;5;241;43m.\u001B[39;49m\u001B[43m_dict_to_list\u001B[49m\u001B[43m(\u001B[49m\u001B[43mrowdict\u001B[49m\u001B[43m)\u001B[49m\u001B[43m)\u001B[49m\n",
      "File \u001B[0;32m/opt/homebrew/Cellar/python@3.9/3.9.12/Frameworks/Python.framework/Versions/3.9/lib/python3.9/csv.py:151\u001B[0m, in \u001B[0;36m<genexpr>\u001B[0;34m(.0)\u001B[0m\n\u001B[1;32m    148\u001B[0m     \u001B[38;5;28;01mif\u001B[39;00m wrong_fields:\n\u001B[1;32m    149\u001B[0m         \u001B[38;5;28;01mraise\u001B[39;00m \u001B[38;5;167;01mValueError\u001B[39;00m(\u001B[38;5;124m\"\u001B[39m\u001B[38;5;124mdict contains fields not in fieldnames: \u001B[39m\u001B[38;5;124m\"\u001B[39m\n\u001B[1;32m    150\u001B[0m                          \u001B[38;5;241m+\u001B[39m \u001B[38;5;124m\"\u001B[39m\u001B[38;5;124m, \u001B[39m\u001B[38;5;124m\"\u001B[39m\u001B[38;5;241m.\u001B[39mjoin([\u001B[38;5;28mrepr\u001B[39m(x) \u001B[38;5;28;01mfor\u001B[39;00m x \u001B[38;5;129;01min\u001B[39;00m wrong_fields]))\n\u001B[0;32m--> 151\u001B[0m \u001B[38;5;28;01mreturn\u001B[39;00m (rowdict\u001B[38;5;241m.\u001B[39mget(key, \u001B[38;5;28mself\u001B[39m\u001B[38;5;241m.\u001B[39mrestval) \u001B[38;5;28;01mfor\u001B[39;00m key \u001B[38;5;129;01min\u001B[39;00m \u001B[38;5;28mself\u001B[39m\u001B[38;5;241m.\u001B[39mfieldnames)\n",
      "\u001B[0;31mKeyboardInterrupt\u001B[0m: "
     ]
    }
   ],
   "source": [
    "start_block = UNISWAP_V3_FACTORY_CREATED_AT_BLOCK\n",
    "end_block = UNISWAP_V3_FACTORY_CREATED_AT_BLOCK + 1_000_000\n",
    "\n",
    "fetch_events_to_csv(json_rpc_url, start_block=start_block, end_block=end_block)"
   ]
  },
  {
   "cell_type": "markdown",
   "metadata": {},
   "source": [
    "### Analyse the pool's price\n",
    "\n",
    "In Uniswap V3, you can get the price of any pool from any given moment using only swap events"
   ]
  },
  {
   "cell_type": "code",
   "execution_count": null,
   "metadata": {},
   "outputs": [],
   "source": [
    "swap_df = pd.read_csv(\"/tmp/uniswapv3-Swap.csv\")"
   ]
  },
  {
   "cell_type": "markdown",
   "metadata": {},
   "source": [
    "Choose a pool to analyse, for example: USDC/ETH 0.3%"
   ]
  },
  {
   "cell_type": "code",
   "execution_count": null,
   "metadata": {},
   "outputs": [],
   "source": [
    "pool_address = \"0x8ad599c3a0ff1de082011efddc58f1908eb6e6d8\""
   ]
  },
  {
   "cell_type": "markdown",
   "metadata": {},
   "source": [
    "Extract only swaps related to this pool from the dataframe"
   ]
  },
  {
   "cell_type": "code",
   "execution_count": null,
   "metadata": {},
   "outputs": [],
   "source": [
    "df = swap_df[swap_df.pool_contract_address == pool_address]\n",
    "df"
   ]
  },
  {
   "cell_type": "markdown",
   "metadata": {},
   "source": [
    "In Uniswap V3, we can easily get pool's price from pool's tick"
   ]
  },
  {
   "cell_type": "code",
   "execution_count": null,
   "metadata": {},
   "outputs": [],
   "source": [
    "def tick_to_price(tick):\n",
    "    return 1.0001**tick\n",
    "\n",
    "df[\"price\"] = df.apply(lambda row: tick_to_price(row[\"tick\"]), axis=1)"
   ]
  },
  {
   "cell_type": "markdown",
   "metadata": {},
   "source": [
    "Then we can plot the price of this pool in first 1000000 blocks"
   ]
  },
  {
   "cell_type": "code",
   "execution_count": null,
   "metadata": {},
   "outputs": [],
   "source": [
    "plt.rcParams[\"figure.dpi\"] = 200\n",
    "\n",
    "df.index = df.timestamp\n",
    "df[\"price\"].plot()\n",
    "\n",
    "plt.xticks(rotation=45, ha=\"right\")"
   ]
  }
 ],
 "metadata": {
  "interpreter": {
   "hash": "9b6697946b59f1cda35d1a9d955611df8679c38ae8cee6d6fc35b656a9a31b3c"
  },
  "kernelspec": {
   "display_name": "Python 3.9.10 ('web3-ethereum-defi-0d8b7oDT-py3.9')",
   "language": "python",
   "name": "python3"
  },
  "language_info": {
   "codemirror_mode": {
    "name": "ipython",
    "version": 3
   },
   "file_extension": ".py",
   "mimetype": "text/x-python",
   "name": "python",
   "nbconvert_exporter": "python",
   "pygments_lexer": "ipython3",
   "version": "3.9.10"
  },
  "orig_nbformat": 4
 },
 "nbformat": 4,
 "nbformat_minor": 2
}