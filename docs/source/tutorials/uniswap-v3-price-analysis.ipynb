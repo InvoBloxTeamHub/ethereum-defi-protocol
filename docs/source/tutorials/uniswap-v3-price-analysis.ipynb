{
 "cells": [
  {
   "cell_type": "markdown",
   "metadata": {},
   "source": [
    "# Uniswap V3 price analysis\n",
    "\n",
    "In this notebook we will show how to download price events from Uniswap V3 to your computer as CSV files and use them to analyse price in each pool.\n",
    "\n",
    "You will need to havev Ethereum JSON-RPC API node URL in order to pull out the data from Ethereum blockchain.\n",
    "You will be interactively asked for this API key."
   ]
  },
  {
   "cell_type": "markdown",
   "metadata": {},
   "source": [
    "### Setup the notebook"
   ]
  },
  {
   "cell_type": "code",
   "execution_count": 5,
   "metadata": {},
   "outputs": [
    {
     "name": "stdout",
     "output_type": "stream",
     "text": [
      "The autoreload extension is already loaded. To reload it, use:\n",
      "  %reload_ext autoreload\n"
     ]
    }
   ],
   "source": [
    "%load_ext autoreload\n",
    "%autoreload 2"
   ]
  },
  {
   "cell_type": "code",
   "execution_count": 6,
   "metadata": {},
   "outputs": [],
   "source": [
    "import pandas as pd\n",
    "import matplotlib.pyplot as plt\n",
    "\n",
    "from eth_defi.uniswap_v3.constants import UNISWAP_V3_FACTORY_CREATED_AT_BLOCK\n",
    "from eth_defi.uniswap_v3.events import fetch_events_to_csv"
   ]
  },
  {
   "cell_type": "markdown",
   "metadata": {},
   "source": [
    "### Download the raw data\n",
    "\n",
    "For simplicity, you can sign up for free access to an Ethereum node for example at [Infura](https://infura.io/), however we recommend you to [run your own Ethereum node](https://tradingstrategy.ai/blog/preparing-a-server-for-hosting-goethereum-full-node)/"
   ]
  },
  {
   "cell_type": "code",
   "execution_count": 7,
   "metadata": {},
   "outputs": [],
   "source": [
    "# Get your node JSON-RPC URL\n",
    "json_rpc_url = input(\"Please enter your Ethereum mainnet JSON-RPC URL here\")"
   ]
  },
  {
   "cell_type": "markdown",
   "metadata": {},
   "source": [
    "As an example, here we download raw events from first 1000000 blocks after Uniswap V3 factory is created, the events will be stored in several CSV files at `/tmp` folder.\n",
    "\n",
    "The scan will take hours. It can resumed from crash, as we save the last scanned block in a JSON state file."
   ]
  },
  {
   "cell_type": "code",
   "execution_count": 8,
   "metadata": {},
   "outputs": [
    {
     "name": "stdout",
     "output_type": "stream",
     "text": [
      "Starting to read block range 12,369,621 - 13,369,621\n"
     ]
    },
    {
     "name": "stderr",
     "output_type": "stream",
     "text": [
      "Block: 12,369,621, events: 0:   0%|          | 100/1000000 [00:00<41:47, 398.69it/s]WARNING:urllib3.connectionpool:Connection pool is full, discarding connection: vitalik.tradingstrategy.ai. Connection pool size: 10\n",
      "Block: 12,369,721, events: 0:   0%|          | 200/1000000 [00:05<8:53:32, 31.23it/s]WARNING:urllib3.connectionpool:Connection pool is full, discarding connection: vitalik.tradingstrategy.ai. Connection pool size: 10\n",
      "WARNING:urllib3.connectionpool:Connection pool is full, discarding connection: vitalik.tradingstrategy.ai. Connection pool size: 10\n",
      "Block: 12,370,821, events: 76, time:04-05-2021:   0%|          | 1200/1000000 [00:08<48:13, 345.17it/s]  WARNING:urllib3.connectionpool:Connection pool is full, discarding connection: vitalik.tradingstrategy.ai. Connection pool size: 10\n",
      "Block: 12,371,121, events: 79, time:05-05-2021:   0%|          | 1600/1000000 [00:14<2:38:38, 104.90it/s]WARNING:urllib3.connectionpool:Connection pool is full, discarding connection: vitalik.tradingstrategy.ai. Connection pool size: 10\n",
      "Block: 12,375,921, events: 314, time:05-05-2021:   1%|          | 6400/1000000 [00:32<1:29:25, 185.17it/s]WARNING:urllib3.connectionpool:Connection pool is full, discarding connection: vitalik.tradingstrategy.ai. Connection pool size: 10\n",
      "Block: 12,376,021, events: 516, time:05-05-2021:   1%|          | 6500/1000000 [00:36<3:12:11, 86.15it/s] WARNING:urllib3.connectionpool:Connection pool is full, discarding connection: vitalik.tradingstrategy.ai. Connection pool size: 10\n",
      "Block: 12,379,321, events: 12139, time:06-05-2021:   1%|          | 9800/1000000 [01:32<2:35:28, 106.15it/s]\n",
      "\n",
      "KeyboardInterrupt\n",
      "\n"
     ]
    }
   ],
   "source": [
    "from eth_defi.event_reader.json_state import JSONFileScanState\n",
    "\n",
    "start_block = UNISWAP_V3_FACTORY_CREATED_AT_BLOCK\n",
    "end_block = UNISWAP_V3_FACTORY_CREATED_AT_BLOCK + 1_000_000\n",
    "\n",
    "state = JSONFileScanState(\"/tmp/price-scan.json\")\n",
    "\n",
    "fetch_events_to_csv(json_rpc_url, state, start_block=start_block, end_block=end_block)"
   ]
  },
  {
   "cell_type": "markdown",
   "metadata": {},
   "source": [
    "### Analyse the pool's price\n",
    "\n",
    "In Uniswap V3, you can get the price of any pool from any given moment using only swap events"
   ]
  },
  {
   "cell_type": "code",
   "execution_count": null,
   "metadata": {},
   "outputs": [],
   "source": [
    "swap_df = pd.read_csv(\"/tmp/uniswapv3-Swap.csv\")"
   ]
  },
  {
   "cell_type": "markdown",
   "metadata": {},
   "source": [
    "Choose a pool to analyse, for example: USDC/ETH 0.3%"
   ]
  },
  {
   "cell_type": "code",
   "execution_count": null,
   "metadata": {},
   "outputs": [],
   "source": [
    "pool_address = \"0x8ad599c3a0ff1de082011efddc58f1908eb6e6d8\""
   ]
  },
  {
   "cell_type": "markdown",
   "metadata": {},
   "source": [
    "Extract only swaps related to this pool from the dataframe"
   ]
  },
  {
   "cell_type": "code",
   "execution_count": null,
   "metadata": {},
   "outputs": [],
   "source": [
    "df = swap_df[swap_df.pool_contract_address == pool_address]\n",
    "df"
   ]
  },
  {
   "cell_type": "markdown",
   "metadata": {},
   "source": [
    "In Uniswap V3, we can easily get pool's price from pool's tick"
   ]
  },
  {
   "cell_type": "code",
   "execution_count": null,
   "metadata": {},
   "outputs": [],
   "source": [
    "def tick_to_price(tick):\n",
    "    return 1.0001**tick\n",
    "\n",
    "df[\"price\"] = df.apply(lambda row: tick_to_price(row[\"tick\"]), axis=1)"
   ]
  },
  {
   "cell_type": "markdown",
   "metadata": {},
   "source": [
    "Then we can plot the price of this pool in first 1000000 blocks"
   ]
  },
  {
   "cell_type": "code",
   "execution_count": null,
   "metadata": {},
   "outputs": [],
   "source": [
    "plt.rcParams[\"figure.dpi\"] = 200\n",
    "\n",
    "df.index = df.timestamp\n",
    "df[\"price\"].plot()\n",
    "\n",
    "plt.xticks(rotation=45, ha=\"right\")"
   ]
  }
 ],
 "metadata": {
  "interpreter": {
   "hash": "9b6697946b59f1cda35d1a9d955611df8679c38ae8cee6d6fc35b656a9a31b3c"
  },
  "kernelspec": {
   "display_name": "Python 3.9.10 ('web3-ethereum-defi-0d8b7oDT-py3.9')",
   "language": "python",
   "name": "python3"
  },
  "language_info": {
   "codemirror_mode": {
    "name": "ipython",
    "version": 3
   },
   "file_extension": ".py",
   "mimetype": "text/x-python",
   "name": "python",
   "nbconvert_exporter": "python",
   "pygments_lexer": "ipython3",
   "version": "3.9.10"
  },
  "orig_nbformat": 4
 },
 "nbformat": 4,
 "nbformat_minor": 2
}