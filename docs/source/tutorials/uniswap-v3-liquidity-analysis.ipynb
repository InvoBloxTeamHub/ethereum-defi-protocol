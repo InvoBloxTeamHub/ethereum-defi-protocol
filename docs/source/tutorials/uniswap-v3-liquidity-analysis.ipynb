{
 "cells": [
  {
   "cell_type": "markdown",
   "metadata": {},
   "source": [
    "# Uniswap V3 liquidity analysis\n",
    "\n",
    "In this notebook we will show how to download liquidity events from Uniswap V3 to your computer as CSV files and use them to construct and analyse liquidity in each pool.\n",
    "\n",
    "* For more background information, see [this blog post about the topic](https://tradingstrategy.ai/blog/uniswap-data-research-with-jupyter-and-python)\n",
    "\n",
    "* You need to understand [Jupyter Notebook and Pandas basics](https://jakevdp.github.io/PythonDataScienceHandbook/)\n",
    "\n",
    "* You need to understand [Ethereum](https://github.com/ethereumbook/ethereumbook) and [Web3.py basics](https://web3py.readthedocs.io/)\n",
    "\n",
    "* You will need to have [Ethereum API node and its JSON-RPC URL](https://ethereumnodes.com/) in order to pull out the data from Ethereum blockchain. The notebook will interactively ask you for your API key.\n",
    "\n",
    "* You can click *Launch binder* button on this documentation page to automatically open this notebook to be run in\n",
    "  [Binder cloud notebook service](https://mybinder.org/). Note that we recommend to run the notebook\n",
    "  on your local computer, as generated CSV needs are large and take long time to generate."
   ]
  },
  {
   "cell_type": "markdown",
   "source": [
    "## Setting up the notebook\n",
    "\n",
    "Here we import the functions we are going to need to get the data from Ethereum blockchain\n",
    "to our own computer."
   ],
   "metadata": {
    "collapsed": false,
    "pycharm": {
     "name": "#%% md\n"
    }
   }
  },
  {
   "cell_type": "code",
   "execution_count": 2,
   "metadata": {},
   "outputs": [],
   "source": [
    "import random\n",
    "\n",
    "import pandas as pd\n",
    "import matplotlib.pyplot as plt\n",
    "\n",
    "from eth_defi.uniswap_v3.constants import UNISWAP_V3_FACTORY_CREATED_AT_BLOCK\n",
    "from eth_defi.uniswap_v3.events import fetch_events_to_csv\n",
    "from eth_defi.uniswap_v3.liquidity import create_tick_delta_csv, create_tick_csv, get_pool_state_at_block"
   ]
  },
  {
   "cell_type": "markdown",
   "metadata": {},
   "source": [
    "### Download the raw data\n",
    "\n",
    "For simplicity, you can sign up for free access to an Ethereum node for example at [Infura](https://infura.io/), however we recommend you to [run your own Ethereum node](https://tradingstrategy.ai/blog/preparing-a-server-for-hosting-goethereum-full-node)"
   ]
  },
  {
   "cell_type": "code",
   "execution_count": 3,
   "metadata": {},
   "outputs": [],
   "source": [
    "json_rpc_url = input(\"Please enter your JSON-RPC URL here\")"
   ]
  },
  {
   "cell_type": "markdown",
   "metadata": {},
   "source": [
    "As an example, here we download raw liquidity events from first 10000 blocks after Uniswap V3 factory is created, the events will be stored in several CSV files at `/tmp` folder"
   ]
  },
  {
   "cell_type": "code",
   "execution_count": 4,
   "metadata": {},
   "outputs": [
    {
     "ename": "TypeError",
     "evalue": "fetch_events_to_csv() missing 1 required positional argument: 'state'",
     "output_type": "error",
     "traceback": [
      "\u001B[0;31m---------------------------------------------------------------------------\u001B[0m",
      "\u001B[0;31mTypeError\u001B[0m                                 Traceback (most recent call last)",
      "Input \u001B[0;32mIn [4]\u001B[0m, in \u001B[0;36m<cell line: 3>\u001B[0;34m()\u001B[0m\n\u001B[1;32m      1\u001B[0m start_block \u001B[38;5;241m=\u001B[39m UNISWAP_V3_FACTORY_CREATED_AT_BLOCK\n\u001B[1;32m      2\u001B[0m end_block \u001B[38;5;241m=\u001B[39m UNISWAP_V3_FACTORY_CREATED_AT_BLOCK \u001B[38;5;241m+\u001B[39m \u001B[38;5;241m10_000\u001B[39m\n\u001B[0;32m----> 3\u001B[0m \u001B[43mfetch_events_to_csv\u001B[49m\u001B[43m(\u001B[49m\u001B[43mjson_rpc_url\u001B[49m\u001B[43m,\u001B[49m\u001B[43m \u001B[49m\u001B[43mstart_block\u001B[49m\u001B[38;5;241;43m=\u001B[39;49m\u001B[43mstart_block\u001B[49m\u001B[43m,\u001B[49m\u001B[43m \u001B[49m\u001B[43mend_block\u001B[49m\u001B[38;5;241;43m=\u001B[39;49m\u001B[43mend_block\u001B[49m\u001B[43m)\u001B[49m\n",
      "\u001B[0;31mTypeError\u001B[0m: fetch_events_to_csv() missing 1 required positional argument: 'state'"
     ]
    }
   ],
   "source": [
    "start_block = UNISWAP_V3_FACTORY_CREATED_AT_BLOCK\n",
    "end_block = UNISWAP_V3_FACTORY_CREATED_AT_BLOCK + 10_000\n",
    "fetch_events_to_csv(json_rpc_url, start_block=start_block, end_block=end_block)"
   ]
  },
  {
   "cell_type": "markdown",
   "metadata": {},
   "source": [
    "### Construct intermediate data\n",
    "\n",
    "A single raw liquidity event only tells us what happened to specific ticks in a specific pool. To be able to know how much liquidity is in each tick, we first need to construct intermediate data (we call them tick delta events) based on mint and burn events "
   ]
  },
  {
   "cell_type": "code",
   "execution_count": null,
   "metadata": {},
   "outputs": [],
   "source": [
    "tick_delta_csv = create_tick_delta_csv(\"/tmp/uniswapv3-Mint.csv\", \"/tmp/uniswapv3-Burn.csv\")"
   ]
  },
  {
   "cell_type": "markdown",
   "metadata": {},
   "source": [
    "Then we can use these delta events to aggregate into each tick liquidity "
   ]
  },
  {
   "cell_type": "code",
   "execution_count": null,
   "metadata": {},
   "outputs": [],
   "source": [
    "tick_csv = create_tick_csv(tick_delta_csv)"
   ]
  },
  {
   "cell_type": "markdown",
   "metadata": {},
   "source": [
    "Create a dataframe we can use for further analysis"
   ]
  },
  {
   "cell_type": "code",
   "execution_count": null,
   "metadata": {},
   "outputs": [],
   "source": [
    "tick_df = pd.read_csv(tick_csv)\n",
    "tick_df"
   ]
  },
  {
   "cell_type": "markdown",
   "metadata": {},
   "source": [
    "### Liquidity analysis example\n",
    "\n",
    "Choose a random pool from the tick dataframe, for example: UNI/ETH 0.3%"
   ]
  },
  {
   "cell_type": "code",
   "execution_count": null,
   "metadata": {},
   "outputs": [],
   "source": [
    "pool_address = \"0x1d42064fc4beb5f8aaf85f4617ae8b3b5b8bd801\""
   ]
  },
  {
   "cell_type": "markdown",
   "metadata": {},
   "source": [
    "Extract only the ticks relate to the pool we chose from the dataframe"
   ]
  },
  {
   "cell_type": "code",
   "execution_count": null,
   "metadata": {},
   "outputs": [],
   "source": [
    "df = tick_df[tick_df.pool_contract_address == pool_address].sort_values(by=\"tick_id\")\n",
    "df.index = df.tick_id\n",
    "\n",
    "df"
   ]
  },
  {
   "cell_type": "markdown",
   "metadata": {},
   "source": [
    "We then can plot the liquidity gross in this pool"
   ]
  },
  {
   "cell_type": "code",
   "execution_count": null,
   "metadata": {},
   "outputs": [],
   "source": [
    "plt.rcParams[\"figure.dpi\"] = 200\n",
    "\n",
    "df[\"liquidity_gross_delta\"].astype(float).plot()"
   ]
  },
  {
   "cell_type": "markdown",
   "metadata": {},
   "source": [
    "### Compare the data with The Graph data\n",
    "\n",
    "One way to verify whether the data we construct is correct is to compare it with official [Uniswap V3 subgraph data](https://thegraph.com/hosted-service/subgraph/uniswap/uniswap-v3)  "
   ]
  },
  {
   "cell_type": "code",
   "execution_count": null,
   "metadata": {},
   "outputs": [],
   "source": [
    "tickdelta_df = pd.read_csv(tick_delta_csv)\n",
    "last_processed_block = tickdelta_df[tickdelta_df.pool_contract_address == pool_address].tail(1).block_number\n",
    "last_processed_block = int(last_processed_block.values[0])"
   ]
  },
  {
   "cell_type": "markdown",
   "metadata": {},
   "source": [
    "Get pool's state at the same last processed block"
   ]
  },
  {
   "cell_type": "code",
   "execution_count": null,
   "metadata": {},
   "outputs": [],
   "source": [
    "pool_state = get_pool_state_at_block(pool_address, last_processed_block)"
   ]
  },
  {
   "cell_type": "markdown",
   "metadata": {},
   "source": [
    "Then compare random ticks between our CSV data and the subgraph data"
   ]
  },
  {
   "cell_type": "code",
   "execution_count": null,
   "metadata": {},
   "outputs": [],
   "source": [
    "ticks = pool_state[\"ticks\"]\n",
    "\n",
    "# get some random ticks from subgraph\n",
    "for i in range(100):\n",
    "    random_tick = random.choice(ticks)\n",
    "    print(random_tick)\n",
    "\n",
    "    # get the same tick from dataframe\n",
    "    random_tick_df = df[df.tick_id == int(random_tick[\"tickIdx\"])]\n",
    "\n",
    "    # compare data\n",
    "    assert int(random_tick_df.liquidity_gross_delta.values[0]) == int(random_tick[\"liquidityGross\"])\n",
    "    assert int(random_tick_df.liquidity_net_delta.values[0]) == int(random_tick[\"liquidityNet\"])"
   ]
  }
 ],
 "metadata": {
  "interpreter": {
   "hash": "9b6697946b59f1cda35d1a9d955611df8679c38ae8cee6d6fc35b656a9a31b3c"
  },
  "kernelspec": {
   "display_name": "Python 3.9.10 ('web3-ethereum-defi-0d8b7oDT-py3.9')",
   "language": "python",
   "name": "python3"
  },
  "language_info": {
   "codemirror_mode": {
    "name": "ipython",
    "version": 3
   },
   "file_extension": ".py",
   "mimetype": "text/x-python",
   "name": "python",
   "nbconvert_exporter": "python",
   "pygments_lexer": "ipython3",
   "version": "3.9.10"
  },
  "orig_nbformat": 4
 },
 "nbformat": 4,
 "nbformat_minor": 2
}